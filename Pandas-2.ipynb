{
 "cells": [
  {
   "cell_type": "code",
   "execution_count": 1,
   "id": "eeab58a0-b015-49a1-a602-9c599cdd911a",
   "metadata": {},
   "outputs": [],
   "source": [
    "import numpy as np\n",
    "import pandas as pd"
   ]
  },
  {
   "cell_type": "code",
   "execution_count": 2,
   "id": "d24af1de-30a6-4403-8990-d4be4493e3bb",
   "metadata": {},
   "outputs": [
    {
     "name": "stdout",
     "output_type": "stream",
     "text": [
      "1.26.4\n"
     ]
    }
   ],
   "source": [
    "print(np.__version__)"
   ]
  },
  {
   "cell_type": "code",
   "execution_count": 3,
   "id": "726a0756-949d-4815-b920-16435069c6a3",
   "metadata": {},
   "outputs": [
    {
     "name": "stdout",
     "output_type": "stream",
     "text": [
      "2.2.2\n"
     ]
    }
   ],
   "source": [
    "print(pd.__version__)"
   ]
  },
  {
   "cell_type": "code",
   "execution_count": 57,
   "id": "1f3368e8-21e8-4d49-8817-73d36303d985",
   "metadata": {},
   "outputs": [],
   "source": [
    "#creating the series\n",
    "p = pd.Series([1, 2, 3, 4, 5, 6, 7, 8, 9, 10])\n",
    "q = pd.Series([10, 9, 8, 7, 6, 5, 4, 3, 2, 1])"
   ]
  },
  {
   "cell_type": "code",
   "execution_count": 64,
   "id": "888ca459-ee41-40a2-b62c-b96d400eba23",
   "metadata": {},
   "outputs": [
    {
     "name": "stdout",
     "output_type": "stream",
     "text": [
      "18.16590212458495\n"
     ]
    }
   ],
   "source": [
    "# question 1\n",
    "difference = p-q\n",
    "square = difference**2\n",
    "sum = square.sum()\n",
    "distance = np.sqrt(sum)\n",
    "print (distance)"
   ]
  },
  {
   "cell_type": "code",
   "execution_count": 8,
   "id": "646b770d-e6c7-4791-9c1e-a01dd8b2aaf5",
   "metadata": {},
   "outputs": [],
   "source": [
    "#creating the table for question 2\n",
    "df = pd.DataFrame(np.arange(20).reshape(-1, 5), columns=list('abcde'))"
   ]
  },
  {
   "cell_type": "code",
   "execution_count": 9,
   "id": "830b0564-73e9-410b-a773-1b9d2ffbbffb",
   "metadata": {},
   "outputs": [
    {
     "name": "stdout",
     "output_type": "stream",
     "text": [
      "    a   b   c   d   e\n",
      "0   0   1   2   3   4\n",
      "1   5   6   7   8   9\n",
      "2  10  11  12  13  14\n",
      "3  15  16  17  18  19\n"
     ]
    }
   ],
   "source": [
    "#checking to see what it looks like\n",
    "print (df)"
   ]
  },
  {
   "cell_type": "code",
   "execution_count": 15,
   "id": "28db0963-bb28-4f94-8bbb-869842e3e665",
   "metadata": {},
   "outputs": [
    {
     "name": "stdout",
     "output_type": "stream",
     "text": [
      "    c   b   a   d   e\n",
      "0   2   1   0   3   4\n",
      "1   7   6   5   8   9\n",
      "2  12  11  10  13  14\n",
      "3  17  16  15  18  19\n"
     ]
    }
   ],
   "source": [
    "# question 2\n",
    "df = df[['c', 'b', 'a', 'd', 'e']]\n",
    "print (df)"
   ]
  },
  {
   "cell_type": "code",
   "execution_count": 24,
   "id": "e24d04e2-628b-4190-b6e2-c893f6679fca",
   "metadata": {},
   "outputs": [],
   "source": [
    "#creating dataframe for question 3\n",
    "df = pd.DataFrame(np.arange(20).reshape(-1, 5), columns=list('abcde'))"
   ]
  },
  {
   "cell_type": "code",
   "execution_count": 27,
   "id": "d998740c-a51c-495d-bcfe-19063b8039b7",
   "metadata": {},
   "outputs": [
    {
     "data": {
      "text/html": [
       "<div>\n",
       "<style scoped>\n",
       "    .dataframe tbody tr th:only-of-type {\n",
       "        vertical-align: middle;\n",
       "    }\n",
       "\n",
       "    .dataframe tbody tr th {\n",
       "        vertical-align: top;\n",
       "    }\n",
       "\n",
       "    .dataframe thead th {\n",
       "        text-align: right;\n",
       "    }\n",
       "</style>\n",
       "<table border=\"1\" class=\"dataframe\">\n",
       "  <thead>\n",
       "    <tr style=\"text-align: right;\">\n",
       "      <th></th>\n",
       "      <th>c</th>\n",
       "      <th>b</th>\n",
       "      <th>a</th>\n",
       "      <th>d</th>\n",
       "      <th>e</th>\n",
       "    </tr>\n",
       "  </thead>\n",
       "  <tbody>\n",
       "    <tr>\n",
       "      <th>0</th>\n",
       "      <td>0</td>\n",
       "      <td>1</td>\n",
       "      <td>2</td>\n",
       "      <td>3</td>\n",
       "      <td>4</td>\n",
       "    </tr>\n",
       "    <tr>\n",
       "      <th>1</th>\n",
       "      <td>5</td>\n",
       "      <td>6</td>\n",
       "      <td>7</td>\n",
       "      <td>8</td>\n",
       "      <td>9</td>\n",
       "    </tr>\n",
       "    <tr>\n",
       "      <th>2</th>\n",
       "      <td>10</td>\n",
       "      <td>11</td>\n",
       "      <td>12</td>\n",
       "      <td>13</td>\n",
       "      <td>14</td>\n",
       "    </tr>\n",
       "    <tr>\n",
       "      <th>3</th>\n",
       "      <td>15</td>\n",
       "      <td>16</td>\n",
       "      <td>17</td>\n",
       "      <td>18</td>\n",
       "      <td>19</td>\n",
       "    </tr>\n",
       "  </tbody>\n",
       "</table>\n",
       "</div>"
      ],
      "text/plain": [
       "    c   b   a   d   e\n",
       "0   0   1   2   3   4\n",
       "1   5   6   7   8   9\n",
       "2  10  11  12  13  14\n",
       "3  15  16  17  18  19"
      ]
     },
     "execution_count": 27,
     "metadata": {},
     "output_type": "execute_result"
    }
   ],
   "source": [
    "#question 3\n",
    "def colswitch (dataframe, col1, col2):      #input dataframe, name of first column to switch, name of second column to switch\n",
    "    column_list = list(dataframe.columns)   #make a list of column names\n",
    "    col1_index = column_list.index(col1)    #get the indecies for the column names to switch\n",
    "    col2_index = column_list.index(col2)\n",
    "    column_list[col1_index] = col2          #switch order of column names in the list\n",
    "    column_list[col2_index] = col1\n",
    "    dataframe.columns = column_list         #reorder the columns in the dataframe\n",
    "    return dataframe                        #return the modified dataframe\n",
    "\n",
    "colswitch (df, 'a', 'c')\n",
    "    \n",
    "    "
   ]
  },
  {
   "cell_type": "code",
   "execution_count": 28,
   "id": "e8762317-05b1-4479-96d1-46220d76e40c",
   "metadata": {},
   "outputs": [
    {
     "name": "stdout",
     "output_type": "stream",
     "text": [
      "         random\n",
      "0  1.647511e-01\n",
      "1  1.579414e-02\n",
      "2  4.181974e-07\n",
      "3  6.820156e-04\n"
     ]
    }
   ],
   "source": [
    "#creating dataframe for question 4\n",
    "df = pd.DataFrame(np.random.random(4)**10, columns=['random'])\n",
    "print (df)"
   ]
  },
  {
   "cell_type": "code",
   "execution_count": 35,
   "id": "995d65fb-d152-498a-8ab6-6b65a4909d1a",
   "metadata": {},
   "outputs": [
    {
     "data": {
      "text/html": [
       "<div>\n",
       "<style scoped>\n",
       "    .dataframe tbody tr th:only-of-type {\n",
       "        vertical-align: middle;\n",
       "    }\n",
       "\n",
       "    .dataframe tbody tr th {\n",
       "        vertical-align: top;\n",
       "    }\n",
       "\n",
       "    .dataframe thead th {\n",
       "        text-align: right;\n",
       "    }\n",
       "</style>\n",
       "<table border=\"1\" class=\"dataframe\">\n",
       "  <thead>\n",
       "    <tr style=\"text-align: right;\">\n",
       "      <th></th>\n",
       "      <th>random</th>\n",
       "    </tr>\n",
       "  </thead>\n",
       "  <tbody>\n",
       "    <tr>\n",
       "      <th>0</th>\n",
       "      <td>0.1648</td>\n",
       "    </tr>\n",
       "    <tr>\n",
       "      <th>1</th>\n",
       "      <td>0.0158</td>\n",
       "    </tr>\n",
       "    <tr>\n",
       "      <th>2</th>\n",
       "      <td>0.0000</td>\n",
       "    </tr>\n",
       "    <tr>\n",
       "      <th>3</th>\n",
       "      <td>0.0007</td>\n",
       "    </tr>\n",
       "  </tbody>\n",
       "</table>\n",
       "</div>"
      ],
      "text/plain": [
       "   random\n",
       "0  0.1648\n",
       "1  0.0158\n",
       "2  0.0000\n",
       "3  0.0007"
      ]
     },
     "execution_count": 35,
     "metadata": {},
     "output_type": "execute_result"
    }
   ],
   "source": [
    "#question 4\n",
    "df.round(4)"
   ]
  },
  {
   "cell_type": "code",
   "execution_count": 115,
   "id": "15ac5780-d35e-45ca-b9b2-1814efe0d4c7",
   "metadata": {},
   "outputs": [
    {
     "name": "stdout",
     "output_type": "stream",
     "text": [
      "    p   q   r   s\n",
      "a  55  13  43  86\n",
      "b  86  50  59  30\n",
      "c  90  25  60   5\n",
      "d  56  67  14  14\n",
      "e  28  53   1   8\n",
      "f   9  26  97  29\n",
      "g  60  97  88  73\n",
      "h  97  96  87  10\n",
      "i  65  93  29  60\n",
      "j   3  91  33  67\n"
     ]
    }
   ],
   "source": [
    "#creating dataframe for question 5\n",
    "df = pd.DataFrame(np.random.randint(1,100, 40).reshape(10, -1),\n",
    "columns=list('pqrs'), index=list('abcdefghij'))\n",
    "print (df)"
   ]
  },
  {
   "cell_type": "code",
   "execution_count": 116,
   "id": "adeccfe6-fcc8-4981-b05c-a49fae36f09f",
   "metadata": {},
   "outputs": [
    {
     "name": "stdout",
     "output_type": "stream",
     "text": [
      "    p   q   r   s nearest_row       dist\n",
      "a  55  13  43  86           b  75.643903\n",
      "b  86  50  59  30           c  35.594943\n",
      "c  90  25  60   5           b  35.594943\n",
      "d  56  67  14  14           e  34.423829\n",
      "e  28  53   1   8           d  34.423829\n",
      "f   9  26  97  29           b  89.162773\n",
      "g  60  97  88  73           i  60.753601\n",
      "h  97  96  87  10           b  58.489315\n",
      "i  65  93  29  60           d  55.659680\n",
      "j   3  91  33  67           i  62.553977\n"
     ]
    }
   ],
   "source": [
    "#Question 5\n",
    "#defining a fuction to calculate the euclidean distance between two rows\n",
    "def euclid (x,y):\n",
    "    difference = x-y\n",
    "    square = difference**2\n",
    "    sum = square.sum()\n",
    "    return np.sqrt(sum)\n",
    "\n",
    "\n",
    "nearest_row_index = []\n",
    "dist = []\n",
    "for row in list(range(0,10)):       #for each of the rows\n",
    "    dist_btwn_rows = []            # a list to store all the row2 indexes and their distances from row\n",
    "    for row2 in list(range(0,10)): #compute the distance between row and each row2\n",
    "        index_distance = []        # a list to store the index of the row2 and its distance from row\n",
    "        if row2 == row:            #dont compare the row to itself\n",
    "            continue\n",
    "        index_distance.append(row2) #add the index to the list\n",
    "        index_distance.append(euclid (df.iloc[row], df.iloc[row2])) \n",
    "        dist_btwn_rows.append(index_distance) \n",
    "        df_index_dist = pd.DataFrame(dist_btwn_rows, columns = ['rowindex', 'distance']) #make a dataframe for row, that contains the distance between it, and each of the other rows, as well as the other rows indicies\n",
    "        \n",
    "    min_dist = df_index_dist['distance'].min() #find the minimum distance for row\n",
    "    rownum = df_index_dist.loc[df_index_dist['distance'] == min_dist, 'rowindex'].values[0] #find the index for the row with the minimum value\n",
    "    nearest_row_index.append(rownum) #save the values for the minimum distance, and the row index row into a list\n",
    "    dist.append(min_dist)\n",
    "names = list(df.index)\n",
    "nearest_row = []\n",
    "for i in nearest_row_index:      #convert indicies to the names of the rows in df\n",
    "    nearest_row.append(names[i])\n",
    "\n",
    "df['nearest_row'] = nearest_row   #append the l\n",
    "df['dist'] = dist\n",
    "\n",
    "print (df)"
   ]
  },
  {
   "cell_type": "code",
   "execution_count": 120,
   "id": "7a20da3f-2e2e-4d2d-af4d-0c6dc8a6449c",
   "metadata": {},
   "outputs": [
    {
     "name": "stdout",
     "output_type": "stream",
     "text": [
      "          A         B         C         D         E\n",
      "A  1.000000  0.756038  0.624390  0.493811  0.928600\n",
      "B  0.756038  1.000000  0.966733  0.363559  0.649558\n",
      "C  0.624390  0.966733  1.000000  0.218860  0.528068\n",
      "D  0.493811  0.363559  0.218860  1.000000  0.720177\n",
      "E  0.928600  0.649558  0.528068  0.720177  1.000000\n"
     ]
    }
   ],
   "source": [
    "#Question 6\n",
    "#creating the dataframe\n",
    "data = {'A': [45, 37, 0, 42, 50],\n",
    "'B': [38, 31, 1, 26, 90],\n",
    "'C': [10, 15, -10, 17, 100],\n",
    "'D': [60, 99, 15, 23, 56],\n",
    "'E': [76, 98, -0.03, 78, 90]\n",
    "       }\n",
    "df6 = pd.DataFrame(data)\n",
    "print (df6.corr())"
   ]
  }
 ],
 "metadata": {
  "kernelspec": {
   "display_name": "Python 3 (ipykernel)",
   "language": "python",
   "name": "python3"
  },
  "language_info": {
   "codemirror_mode": {
    "name": "ipython",
    "version": 3
   },
   "file_extension": ".py",
   "mimetype": "text/x-python",
   "name": "python",
   "nbconvert_exporter": "python",
   "pygments_lexer": "ipython3",
   "version": "3.12.4"
  }
 },
 "nbformat": 4,
 "nbformat_minor": 5
}
