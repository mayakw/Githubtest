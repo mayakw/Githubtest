{
 "cells": [
  {
   "cell_type": "markdown",
   "id": "c22a1c9f-d5ba-4545-adb9-6b3753960f37",
   "metadata": {},
   "source": [
    "# Libraries"
   ]
  },
  {
   "cell_type": "markdown",
   "id": "15b352fd-4139-40f1-be66-19cfc909b2dd",
   "metadata": {},
   "source": [
    "## NumPy"
   ]
  },
  {
   "cell_type": "code",
   "execution_count": 1,
   "id": "2503816f-9c60-4aac-8947-83dbf0b86d27",
   "metadata": {
    "tags": []
   },
   "outputs": [],
   "source": [
    "import numpy as np # generally imported as np"
   ]
  },
  {
   "cell_type": "code",
   "execution_count": 2,
   "id": "1377be07-e06f-4df8-a1ff-282ca5d8b52a",
   "metadata": {},
   "outputs": [
    {
     "name": "stdout",
     "output_type": "stream",
     "text": [
      "[1 2 3 4]\n",
      "\n"
     ]
    }
   ],
   "source": [
    "#create 1D array\n",
    "\n",
    "arr_1d = np.array([1,2,3,4])\n",
    "print(arr_1d)\n",
    "print()"
   ]
  },
  {
   "cell_type": "code",
   "execution_count": 3,
   "id": "38882920",
   "metadata": {},
   "outputs": [],
   "source": [
    "from numpy import array # importing the whole library mi"
   ]
  },
  {
   "cell_type": "code",
   "execution_count": 4,
   "id": "60216212",
   "metadata": {},
   "outputs": [
    {
     "name": "stdout",
     "output_type": "stream",
     "text": [
      "[1 2 3 4]\n",
      "\n"
     ]
    }
   ],
   "source": [
    "arr_1d = array([1,2,3,4])\n",
    "print(arr_1d)\n",
    "print()"
   ]
  },
  {
   "cell_type": "markdown",
   "id": "e67d3723",
   "metadata": {},
   "source": [
    "## you can shorten up more\n"
   ]
  },
  {
   "cell_type": "code",
   "execution_count": 5,
   "id": "d2394ffe",
   "metadata": {},
   "outputs": [
    {
     "name": "stdout",
     "output_type": "stream",
     "text": [
      "[1 2 3 4]\n",
      "\n"
     ]
    }
   ],
   "source": [
    "from numpy import array as ar\n",
    "arr_1d = ar([1,2,3,4])\n",
    "print(arr_1d)\n",
    "print()"
   ]
  },
  {
   "cell_type": "code",
   "execution_count": 6,
   "id": "3992224b-eb4a-4cf5-82da-72a8cb5859f0",
   "metadata": {},
   "outputs": [
    {
     "name": "stdout",
     "output_type": "stream",
     "text": [
      "[[1 2 3 4]\n",
      " [5 6 7 8]]\n"
     ]
    }
   ],
   "source": [
    "#create 2D array\n",
    "arr_2d = np.array([[1,2,3,4],[5,6,7,8]])\n",
    "print(arr_2d)"
   ]
  },
  {
   "cell_type": "code",
   "execution_count": 7,
   "id": "6b1b9f8f-0fa7-4343-9342-982c8a82da70",
   "metadata": {},
   "outputs": [
    {
     "name": "stdout",
     "output_type": "stream",
     "text": [
      "[1 2 3 4 5 6 7 8]\n",
      "[[1 2 3 4]\n",
      " [5 6 7 8]]\n"
     ]
    }
   ],
   "source": [
    "#reshape array\n",
    "arr_1d = np.array([1,2,3,4,5,6,7,8])\n",
    "print(arr_1d)\n",
    "\n",
    "arr_2d = arr_1d.reshape(2,4)\n",
    "print(arr_2d)"
   ]
  },
  {
   "cell_type": "code",
   "execution_count": 8,
   "id": "96d53afe-7718-4893-b8f1-2560888fc193",
   "metadata": {
    "tags": []
   },
   "outputs": [
    {
     "name": "stdout",
     "output_type": "stream",
     "text": [
      "[1 2 3 4 5 6 7 8]\n",
      "[ 3  4  5  6  7  8  9 10]\n"
     ]
    }
   ],
   "source": [
    "#add value to all elements\n",
    "print(arr_1d)\n",
    "print(arr_1d + 2)"
   ]
  },
  {
   "cell_type": "code",
   "execution_count": 9,
   "id": "9497999f-b9d0-4f43-9c6e-cff50a1b3b6d",
   "metadata": {
    "tags": []
   },
   "outputs": [
    {
     "name": "stdout",
     "output_type": "stream",
     "text": [
      "[[1 2 3 4]\n",
      " [5 6 7 8]]\n",
      "[[ 2  4  6  8]\n",
      " [10 12 14 16]]\n"
     ]
    }
   ],
   "source": [
    "#multiply each element by 3\n",
    "\n",
    "print(arr_2d)\n",
    "print(arr_2d * 2)"
   ]
  },
  {
   "cell_type": "code",
   "execution_count": 10,
   "id": "e3f3afc4",
   "metadata": {},
   "outputs": [
    {
     "data": {
      "text/plain": [
       "[1, 2, 3, 4, 1, 2, 3, 4]"
      ]
     },
     "execution_count": 10,
     "metadata": {},
     "output_type": "execute_result"
    }
   ],
   "source": [
    "[1,2,3,4]*2 # it duplicate the list "
   ]
  },
  {
   "cell_type": "code",
   "execution_count": 11,
   "id": "81465273-2af5-4656-9b9c-65a5ac9ca655",
   "metadata": {
    "tags": []
   },
   "outputs": [
    {
     "data": {
      "text/plain": [
       "36"
      ]
     },
     "execution_count": 11,
     "metadata": {},
     "output_type": "execute_result"
    }
   ],
   "source": [
    "#sum all elements in np.array()\n",
    "np.sum(arr_2d)"
   ]
  },
  {
   "cell_type": "code",
   "execution_count": 12,
   "id": "7fbacbef",
   "metadata": {},
   "outputs": [
    {
     "name": "stdout",
     "output_type": "stream",
     "text": [
      "[[1 2 3 4]\n",
      " [5 6 7 8]]\n"
     ]
    }
   ],
   "source": [
    "print(arr_2d)"
   ]
  },
  {
   "cell_type": "code",
   "execution_count": 13,
   "id": "6a8ce06a",
   "metadata": {},
   "outputs": [
    {
     "data": {
      "text/plain": [
       "array([ 6,  8, 10, 12])"
      ]
     },
     "execution_count": 13,
     "metadata": {},
     "output_type": "execute_result"
    }
   ],
   "source": [
    "np.sum(arr_2d, axis=0)"
   ]
  },
  {
   "cell_type": "code",
   "execution_count": 14,
   "id": "533bc0fe",
   "metadata": {},
   "outputs": [
    {
     "data": {
      "text/plain": [
       "array([10, 26])"
      ]
     },
     "execution_count": 14,
     "metadata": {},
     "output_type": "execute_result"
    }
   ],
   "source": [
    "np.sum(arr_2d, axis=1)"
   ]
  },
  {
   "cell_type": "code",
   "execution_count": 15,
   "id": "f1c89aa5",
   "metadata": {},
   "outputs": [
    {
     "data": {
      "text/plain": [
       "array([1, 2, 3, 4, 5, 6, 7, 8])"
      ]
     },
     "execution_count": 15,
     "metadata": {},
     "output_type": "execute_result"
    }
   ],
   "source": [
    "arr_1d"
   ]
  },
  {
   "cell_type": "code",
   "execution_count": 16,
   "id": "a911573b-5c15-4417-b6a8-74346ef81117",
   "metadata": {
    "tags": []
   },
   "outputs": [
    {
     "data": {
      "text/plain": [
       "array([2, 3, 4])"
      ]
     },
     "execution_count": 16,
     "metadata": {},
     "output_type": "execute_result"
    }
   ],
   "source": [
    "#slicing 1D , up to 4 but not including\n",
    "arr_1d[1:4]"
   ]
  },
  {
   "cell_type": "code",
   "execution_count": 17,
   "id": "fc9fcb72",
   "metadata": {},
   "outputs": [
    {
     "data": {
      "text/plain": [
       "array([[1, 2, 3, 4],\n",
       "       [5, 6, 7, 8]])"
      ]
     },
     "execution_count": 17,
     "metadata": {},
     "output_type": "execute_result"
    }
   ],
   "source": [
    "arr_2d"
   ]
  },
  {
   "cell_type": "code",
   "execution_count": 18,
   "id": "d90b3f1c-eaff-46aa-91ca-309edef829fe",
   "metadata": {
    "tags": []
   },
   "outputs": [
    {
     "data": {
      "text/plain": [
       "array([6, 7, 8])"
      ]
     },
     "execution_count": 18,
     "metadata": {},
     "output_type": "execute_result"
    }
   ],
   "source": [
    "#slicing 2D, up to 4 but not including\n",
    "arr_2d[1,1:4]"
   ]
  },
  {
   "cell_type": "code",
   "execution_count": 19,
   "id": "3b42bdfc-47c0-4094-aa7d-fdccc7333cbf",
   "metadata": {
    "tags": []
   },
   "outputs": [
    {
     "data": {
      "text/plain": [
       "array([[False,  True, False,  True],\n",
       "       [False,  True, False,  True]])"
      ]
     },
     "execution_count": 19,
     "metadata": {},
     "output_type": "execute_result"
    }
   ],
   "source": [
    "#boolean indexing, which values match some criteria\n",
    "\n",
    "arr_2d % 2 ==  0"
   ]
  },
  {
   "cell_type": "code",
   "execution_count": 20,
   "id": "84886554-6106-455c-a5ed-8c204a9ac29e",
   "metadata": {
    "tags": []
   },
   "outputs": [
    {
     "data": {
      "text/plain": [
       "array([2, 4, 6, 8])"
      ]
     },
     "execution_count": 20,
     "metadata": {},
     "output_type": "execute_result"
    }
   ],
   "source": [
    "#boolean mask\n",
    "\n",
    "arr_2d[arr_2d % 2 ==  0]"
   ]
  },
  {
   "cell_type": "code",
   "execution_count": 21,
   "id": "02ddac75-3750-4aea-9c67-e8aa420e5819",
   "metadata": {
    "tags": []
   },
   "outputs": [
    {
     "data": {
      "text/plain": [
       "4.5"
      ]
     },
     "execution_count": 21,
     "metadata": {},
     "output_type": "execute_result"
    }
   ],
   "source": [
    "#functions on arrays\n",
    "\n",
    "np.mean(arr_1d)"
   ]
  },
  {
   "cell_type": "code",
   "execution_count": 22,
   "id": "d21a3630-ee18-4d98-8a69-fc9f54a2977a",
   "metadata": {
    "tags": []
   },
   "outputs": [
    {
     "data": {
      "text/plain": [
       "2.29128784747792"
      ]
     },
     "execution_count": 22,
     "metadata": {},
     "output_type": "execute_result"
    }
   ],
   "source": [
    "#functions on arrays\n",
    "\n",
    "np.std(arr_1d)"
   ]
  },
  {
   "cell_type": "code",
   "execution_count": 23,
   "id": "de8ffafe-d060-426b-947c-03d92505b83a",
   "metadata": {
    "tags": []
   },
   "outputs": [
    {
     "data": {
      "text/plain": [
       "array([[0., 0., 0.],\n",
       "       [0., 0., 0.]])"
      ]
     },
     "execution_count": 23,
     "metadata": {},
     "output_type": "execute_result"
    }
   ],
   "source": [
    "#array generation: empty array \n",
    "np.zeros((2,3))"
   ]
  },
  {
   "cell_type": "code",
   "execution_count": 24,
   "id": "af28897f-21a4-445d-80d3-54e3980aec82",
   "metadata": {
    "tags": []
   },
   "outputs": [
    {
     "data": {
      "text/plain": [
       "array([[1., 1., 1.],\n",
       "       [1., 1., 1.]])"
      ]
     },
     "execution_count": 24,
     "metadata": {},
     "output_type": "execute_result"
    }
   ],
   "source": [
    "#array generation: array of ones\n",
    "np.ones((2,3))"
   ]
  },
  {
   "cell_type": "code",
   "execution_count": 25,
   "id": "ea8fb93a-8517-4068-b673-73cbc78bd26c",
   "metadata": {
    "tags": []
   },
   "outputs": [
    {
     "data": {
      "text/plain": [
       "array([[1., 0., 0.],\n",
       "       [0., 1., 0.],\n",
       "       [0., 0., 1.]])"
      ]
     },
     "execution_count": 25,
     "metadata": {},
     "output_type": "execute_result"
    }
   ],
   "source": [
    "#array generation: identity matrix\n",
    "np.eye(3)"
   ]
  },
  {
   "cell_type": "code",
   "execution_count": 26,
   "id": "7de91e5b-d63e-4742-90d1-eec3b337bd8a",
   "metadata": {
    "tags": []
   },
   "outputs": [
    {
     "data": {
      "text/plain": [
       "array([1, 3, 5, 7, 9])"
      ]
     },
     "execution_count": 26,
     "metadata": {},
     "output_type": "execute_result"
    }
   ],
   "source": [
    "#sequence : similar ro range function, start, stop and step value\n",
    "np.arange(1,10,2)"
   ]
  },
  {
   "cell_type": "code",
   "execution_count": 27,
   "id": "d971d3e1",
   "metadata": {},
   "outputs": [
    {
     "data": {
      "text/plain": [
       "array([1, 2, 3, 4, 5, 6, 7, 8, 9])"
      ]
     },
     "execution_count": 27,
     "metadata": {},
     "output_type": "execute_result"
    }
   ],
   "source": [
    "#sequence : similar ro range function, start, stop and step value (not include the stop value)\n",
    "np.arange(1,10)"
   ]
  },
  {
   "cell_type": "code",
   "execution_count": 28,
   "id": "4bc3791e-38bd-4e96-b734-6f2e2590e659",
   "metadata": {
    "tags": []
   },
   "outputs": [
    {
     "data": {
      "text/plain": [
       "array([0. , 0.1, 0.2, 0.3, 0.4, 0.5, 0.6, 0.7, 0.8, 0.9, 1. ])"
      ]
     },
     "execution_count": 28,
     "metadata": {},
     "output_type": "execute_result"
    }
   ],
   "source": [
    "#grid of values: start, stop and how many evenly spaced sample you want, calculated over the interval [start, stop] \n",
    "np.linspace(0, 1, 11)"
   ]
  },
  {
   "cell_type": "code",
   "execution_count": 29,
   "id": "b26519f7-4a3a-4566-acba-246ad14d16a6",
   "metadata": {
    "tags": []
   },
   "outputs": [
    {
     "data": {
      "text/plain": [
       "array([[0. , 0.4],\n",
       "       [0.8, 1.2],\n",
       "       [1.6, 2. ]])"
      ]
     },
     "execution_count": 29,
     "metadata": {},
     "output_type": "execute_result"
    }
   ],
   "source": [
    "#combine functions: grid of values -> reshape\n",
    "np.linspace(0, 2, 6).reshape(3,2)"
   ]
  },
  {
   "cell_type": "code",
   "execution_count": 30,
   "id": "3cd96b1f",
   "metadata": {},
   "outputs": [
    {
     "ename": "ValueError",
     "evalue": "cannot reshape array of size 6 into shape (2,2)",
     "output_type": "error",
     "traceback": [
      "\u001b[1;31m---------------------------------------------------------------------------\u001b[0m",
      "\u001b[1;31mValueError\u001b[0m                                Traceback (most recent call last)",
      "Cell \u001b[1;32mIn[30], line 2\u001b[0m\n\u001b[0;32m      1\u001b[0m \u001b[38;5;66;03m#combine functions: grid of values -> reshape\u001b[39;00m\n\u001b[1;32m----> 2\u001b[0m np\u001b[38;5;241m.\u001b[39mlinspace(\u001b[38;5;241m0\u001b[39m, \u001b[38;5;241m2\u001b[39m, \u001b[38;5;241m6\u001b[39m)\u001b[38;5;241m.\u001b[39mreshape(\u001b[38;5;241m2\u001b[39m,\u001b[38;5;241m2\u001b[39m)\n",
      "\u001b[1;31mValueError\u001b[0m: cannot reshape array of size 6 into shape (2,2)"
     ]
    }
   ],
   "source": [
    "#combine functions: grid of values -> reshape\n",
    "np.linspace(0, 2, 6).reshape(2,2)"
   ]
  },
  {
   "cell_type": "code",
   "execution_count": null,
   "id": "40277fc0-9426-4d1f-830c-9e72fc1ba4b3",
   "metadata": {
    "tags": []
   },
   "outputs": [],
   "source": [
    "# Define two vectors A and B\n",
    "A = np.array([2, 3, 4])\n",
    "B = np.array([5, 6, 7])\n",
    "\n",
    "# Calculate the dot product A · B\n",
    "dot_product_AB = np.dot(A, B)\n",
    "\n",
    "# Calculate the dot product B · A\n",
    "dot_product_BA = np.dot(B, A)\n",
    "\n",
    "# Check if the dot products are equal (commutative property)\n",
    "if dot_product_AB == dot_product_BA:\n",
    "    print('A · B = B · A')\n",
    "    print(f'A · B = {dot_product_AB}')\n",
    "else:\n",
    "    print('A · B is not equal to B · A')"
   ]
  },
  {
   "cell_type": "markdown",
   "id": "734bcfa4-d08e-4b24-97ec-eae813055c46",
   "metadata": {},
   "source": [
    "## Pandas"
   ]
  },
  {
   "cell_type": "code",
   "execution_count": null,
   "id": "215192a1-0c33-40ce-a4da-6c8926992749",
   "metadata": {
    "tags": []
   },
   "outputs": [],
   "source": [
    "import pandas as pd # genarally imported as pd"
   ]
  },
  {
   "cell_type": "code",
   "execution_count": null,
   "id": "b2609f7f-1e66-4d8e-9f42-ac4f65cb77f1",
   "metadata": {
    "tags": []
   },
   "outputs": [],
   "source": [
    "#create dataframe\n",
    "\n",
    "data = {'Name': ['Alice', 'Bob', 'Charlie'],\n",
    "        'Age': [25, 30, 35]}\n",
    "df = pd.DataFrame(data)\n",
    "\n",
    "# Create a DataFrame from a list of dictionaries\n",
    "data_list = [{'Name': 'Alice', 'Age': 25},\n",
    "             {'Name': 'Bob', 'Age': 30},\n",
    "             {'Name': 'Charlie', 'Age': 35}]\n",
    "df = pd.DataFrame(data_list)\n",
    "df"
   ]
  },
  {
   "cell_type": "code",
   "execution_count": null,
   "id": "ec55e7cb-cbce-41e1-b1f9-70fc4799d1d8",
   "metadata": {
    "tags": []
   },
   "outputs": [],
   "source": [
    "#https://www.uniprot.org/locations?query=nucleus\n",
    "\n",
    "nucleus_loci = pd.read_csv('locations_nucleus.tsv', sep='\\t')\n",
    "nucleus_loci"
   ]
  },
  {
   "cell_type": "code",
   "execution_count": null,
   "id": "c83a104a-8745-49f1-a2e7-b69af5602b19",
   "metadata": {
    "tags": []
   },
   "outputs": [],
   "source": [
    "# function to see the first rows, here first 5 rows\n",
    "nucleus_loci.head(n=5)"
   ]
  },
  {
   "cell_type": "code",
   "execution_count": null,
   "id": "6449f577-2eaa-4abe-983b-9c6999637a54",
   "metadata": {
    "tags": []
   },
   "outputs": [],
   "source": [
    "#subset columns , two square brackets\n",
    "nucleus_loci[['Name', 'Category']].head()"
   ]
  },
  {
   "cell_type": "code",
   "execution_count": null,
   "id": "be55b444-4306-42dc-b602-9c4dfc993274",
   "metadata": {
    "tags": []
   },
   "outputs": [],
   "source": [
    "#subset rows: iloc method\n",
    "nucleus_loci.iloc[1:4,:]"
   ]
  },
  {
   "cell_type": "code",
   "execution_count": null,
   "id": "c3a9f5dc-5a4f-47a8-8d9b-99a882d5145b",
   "metadata": {
    "tags": []
   },
   "outputs": [],
   "source": [
    "#drop na\n",
    "nucleus_loci = nucleus_loci.dropna()\n",
    "\n",
    "#if inplace:\n",
    "nucleus_loci.dropna(inplace=True)"
   ]
  },
  {
   "cell_type": "code",
   "execution_count": null,
   "id": "c656bba7-80cb-454b-b44d-25005645731d",
   "metadata": {},
   "outputs": [],
   "source": [
    "#select NaN -> change to another value 'Other'"
   ]
  },
  {
   "cell_type": "code",
   "execution_count": null,
   "id": "bc884ff9-9f5e-4627-9273-9b41665b5780",
   "metadata": {
    "tags": []
   },
   "outputs": [],
   "source": [
    "#select specific col: output is series, one-dimensiona version of dataframe\n",
    "nucleus_loci['Is a']"
   ]
  },
  {
   "cell_type": "code",
   "execution_count": null,
   "id": "c09fcbc2-d745-4863-b6cc-18e9f35bcafd",
   "metadata": {
    "tags": []
   },
   "outputs": [],
   "source": [
    "#select rows of col that are NaN\n",
    "nucleus_loci['Is a'].isna()"
   ]
  },
  {
   "cell_type": "code",
   "execution_count": null,
   "id": "8fb08919-cf86-4acb-b79c-673d031badb9",
   "metadata": {
    "tags": []
   },
   "outputs": [],
   "source": [
    "#filter whole df based on boolean values\n",
    "#AKA boolean mask\n",
    "\n",
    "mask = nucleus_loci['Is a'].isna()\n",
    "\n",
    "nucleus_loci['Is a'][mask] = 'Other'\n",
    "\n",
    "nucleus_loci['Is a']"
   ]
  },
  {
   "cell_type": "code",
   "execution_count": null,
   "id": "e56ad3e4",
   "metadata": {},
   "outputs": [],
   "source": [
    "## calling a column\n",
    "nucleus_loci.Name\n",
    "nucleus_loci['Name']"
   ]
  },
  {
   "cell_type": "code",
   "execution_count": null,
   "id": "5ec4e6cc-28eb-4aa6-870d-cb5d92f3cbe2",
   "metadata": {
    "tags": []
   },
   "outputs": [],
   "source": [
    "# another mask\n",
    "\n",
    "mask = (nucleus_loci.Name == 'Cytoplasm') | (nucleus_loci.Name == 'Target cell cytoplasm')\n",
    "\n",
    "nucleus_loci[mask]"
   ]
  },
  {
   "cell_type": "code",
   "execution_count": null,
   "id": "8b876eb8-0499-41fb-a27e-fc005ae18f3d",
   "metadata": {
    "tags": []
   },
   "outputs": [],
   "source": [
    "# another mask\n",
    "\n",
    "mask = nucleus_loci['Name'].str.contains('cytoplasm')\n",
    "\n",
    "nucleus_loci[mask]"
   ]
  },
  {
   "cell_type": "code",
   "execution_count": null,
   "id": "83f18329-984e-4213-95b7-899d3299365f",
   "metadata": {
    "tags": []
   },
   "outputs": [],
   "source": [
    "# another mask (or symbol)\n",
    "\n",
    "mask = nucleus_loci['Name'].str.contains('Cytoplasm') | nucleus_loci['Name'].str.contains('cytoplasm')\n",
    "\n",
    "nucleus_loci[mask]"
   ]
  },
  {
   "cell_type": "code",
   "execution_count": null,
   "id": "38110500",
   "metadata": {},
   "outputs": [],
   "source": [
    "# In Pandas, the .str.lower() method is used to convert all characters in a string column to lowercase\n",
    "# .upper() upper case .title() title case\n",
    "mask = nucleus_loci['Name'].str.lower().str.contains('cytoplasm') \n",
    "\n",
    "\n",
    "nucleus_loci[mask]"
   ]
  },
  {
   "cell_type": "markdown",
   "id": "0ec65a8e-ff43-4a67-abda-e0ba982e71f2",
   "metadata": {},
   "source": [
    "Other things Pandas offers:\n",
    "\n",
    "* time-series\n",
    "* in built plotting\n",
    "* merging and joining data\n",
    "* more complex functions"
   ]
  },
  {
   "cell_type": "markdown",
   "id": "e1fea722-0a0a-423b-a1fa-94937baaa63a",
   "metadata": {},
   "source": [
    "## Matplotlib"
   ]
  },
  {
   "cell_type": "code",
   "execution_count": null,
   "id": "a5a32b18-b5ce-4b46-96bb-a2a33736e30c",
   "metadata": {
    "tags": []
   },
   "outputs": [],
   "source": [
    "import matplotlib.pyplot as plt #for plotting needs"
   ]
  },
  {
   "cell_type": "code",
   "execution_count": null,
   "id": "0a9ddcd8-1bee-4e2a-a877-e25e3fa13667",
   "metadata": {
    "tags": []
   },
   "outputs": [],
   "source": [
    "# Data\n",
    "x = [1, 2, 3, 4, 5]\n",
    "y = [2, 4, 6, 8, 10]\n",
    "\n",
    "# Create a line plot\n",
    "plt.plot(x, y)\n",
    "\n",
    "# Add labels and title\n",
    "plt.xlabel('X-axis')\n",
    "plt.ylabel('Y-axis')\n",
    "plt.title('Simple Line Plot')\n",
    "\n",
    "# Show the plot\n",
    "plt.show()\n",
    "## search for syntax to save the figure and what formats been supported"
   ]
  },
  {
   "cell_type": "code",
   "execution_count": null,
   "id": "553544cf-2152-4cec-867f-271b1c0ca3cb",
   "metadata": {
    "tags": []
   },
   "outputs": [],
   "source": [
    "# create a figure with multiple subplots\n",
    "fig, subfigs = plt.subplots()\n",
    "\n",
    "#plot point\n",
    "# Create a line plot\n",
    "subfigs.plot(x, y)\n",
    "\n",
    "# Add labels and title\n",
    "subfigs.set_xlabel('X-axis')\n",
    "subfigs.set_ylabel('Y-axis')\n",
    "subfigs.set_title('Simple Line Plot')"
   ]
  },
  {
   "cell_type": "code",
   "execution_count": null,
   "id": "5c41d210-d69f-474b-a5d6-a1d70949251a",
   "metadata": {
    "tags": []
   },
   "outputs": [],
   "source": [
    "import random\n",
    "# customize fig size, number of plots\n",
    "fig, subfigs = plt.subplots(1,2, figsize=(12, 5))\n",
    "\n",
    "#plot point\n",
    "# select individual plots \n",
    "# Create a line plot\n",
    "subfigs[0].plot(x, y)\n",
    "\n",
    "# Add labels and title\n",
    "subfigs[0].set_xlabel('X-axis')\n",
    "subfigs[0].set_ylabel('Y-axis')\n",
    "subfigs[0].set_title('Simple Line Plot')\n",
    "\n",
    "#add to second plot\n",
    "subfigs[1].scatter([random.randint(-10, 10) for x in range(10)], [random.randint(-10, 10) for x in range(10)], color='red')\n",
    "# List comprehension offers a shorter syntax when you want to create a new list based on the values of an existing list\n",
    "# Add labels and title\n",
    "subfigs[1].set_xlabel('Other X-axis')\n",
    "subfigs[1].set_ylabel('Y-axis')\n",
    "subfigs[1].set_title('Simple Scatter Plot')"
   ]
  },
  {
   "cell_type": "code",
   "execution_count": null,
   "id": "65cd9dab-3bb6-4aaa-a61f-aae107bf6e5d",
   "metadata": {
    "tags": []
   },
   "outputs": [],
   "source": [
    "import random\n",
    "# sharey=True is an argument used with the plt.subplots() function to create subplots with a shared y-axis. \n",
    "# This means that all subplots in the same row or column (depending on how you've organized your subplots) will have the same y-axis scale and limits\n",
    "fig, subfigs = plt.subplots(1,2, figsize=(12, 5), sharey=True)\n",
    "\n",
    "#plot point\n",
    "# Create a line plot\n",
    "subfigs[0].plot(x, y)\n",
    "\n",
    "# Add labels and title\n",
    "subfigs[0].set_xlabel('X-axis')\n",
    "subfigs[0].set_ylabel('Y-axis')\n",
    "subfigs[0].set_title('Simple Line Plot')\n",
    "\n",
    "#add to second plot\n",
    "subfigs[1].scatter([random.randint(-10, 10) for x in range(10)], [random.randint(-10, 10) for x in range(10)], color='red')\n",
    "# Add labels and title\n",
    "subfigs[1].set_xlabel('Other X-axis')\n",
    "subfigs[1].set_ylabel('Y-axis')\n",
    "subfigs[1].set_title('Simple Scatter Plot')"
   ]
  },
  {
   "cell_type": "code",
   "execution_count": null,
   "id": "4c6837e9",
   "metadata": {},
   "outputs": [],
   "source": [
    "!conda install numpy\n",
    "!pip install numpy"
   ]
  },
  {
   "cell_type": "code",
   "execution_count": null,
   "id": "0cc41a68",
   "metadata": {},
   "outputs": [],
   "source": []
  }
 ],
 "metadata": {
  "kernelspec": {
   "display_name": "Python 3 (ipykernel)",
   "language": "python",
   "name": "python3"
  },
  "language_info": {
   "codemirror_mode": {
    "name": "ipython",
    "version": 3
   },
   "file_extension": ".py",
   "mimetype": "text/x-python",
   "name": "python",
   "nbconvert_exporter": "python",
   "pygments_lexer": "ipython3",
   "version": "3.12.4"
  }
 },
 "nbformat": 4,
 "nbformat_minor": 5
}
