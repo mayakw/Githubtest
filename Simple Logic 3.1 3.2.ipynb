{
 "cells": [
  {
   "cell_type": "markdown",
   "id": "921962dd-43bc-4284-a630-a53338e4b2e5",
   "metadata": {},
   "source": [
    "Problem 3 Functions\n",
    "3.1 write a function, that takes in the array as an argument, and outputs 10 values from the dataset, spaced out by indexes that are 25 apart (ie 0, 25, 50, etc)\n",
    "\n",
    "3.2 write a function that takes in the dataset as an argument and outputs 20 values from the dataset, spaced out by indexes that are y apart (ie you can decide how far apart they should be iterated as long as they dont exceed the length of the dataset)"
   ]
  },
  {
   "cell_type": "code",
   "execution_count": 2,
   "id": "e6716619-7bf9-43f4-848e-696ca8bd0393",
   "metadata": {},
   "outputs": [],
   "source": [
    "influenza_genome = [19, 15, 7, 9, 12, 6, 17, 20, 29, 14, 22, 8, 15, 12, 21, 25, 11, 10, 30, 4, 6, 24, 18, 21, 28, 22, 13, 19, 4, 23, 16, 25, 13, 28, 16, 29, 4, 3, 25, 13, 10, 26, 26, 18, 25, 28, 24, 18, 3, 9, 11, 29, 30, 16, 24, 5, 5, 25, 14, 7, 1, 15, 6, 6, 19, 19, 15, 2, 14, 7, 21, 5, 26, 25, 18, 18, 9, 7, 27, 4, 1, 23, 30, 25, 24, 29, 11, 16, 20, 15, 2, 9, 8, 13, 1, 13, 5, 17, 29, 25, 16, 13, 3, 30, 10, 21, 9, 18, 20, 14, 20, 19, 6, 4, 20, 5, 14, 5, 12, 27, 18, 28, 13, 30, 6, 9, 12, 9, 29, 4, 14, 22, 7, 25, 11, 12, 5, 24, 6, 3, 8, 3, 20, 24, 8, 23, 22, 11, 22, 10, 13, 14, 2, 6, 22, 22, 7, 6, 18, 28, 25, 4, 6, 24, 10, 24, 15, 18, 12, 24, 10, 16, 24, 21, 19, 24, 8, 8, 8, 10, 8, 15, 26, 14, 21, 18, 6, 10, 23, 2, 20, 15, 1, 4, 20, 8, 6, 1, 4, 15, 21, 26, 25, 1, 24, 15, 27, 8, 23, 4, 30, 22, 1, 3, 7, 16, 18, 29, 11, 4, 1, 29, 30, 16, 30, 10, 2, 26, 26, 7, 10, 15, 6, 25, 4, 7, 12, 24, 5, 8, 23, 16, 8, 3, 16, 1, 9, 4, 27, 26, 9, 25, 7, 14, 27, 21, 27, 28, 2, 2, 27, 22, 3, 23, 14, 16, 30, 12, 14, 8, 10, 5, 16, 12, 24, 3, 28, 9, 21, 7, 25, 9, 5, 3, 27, 7, 29, 25, 13, 11, 25, 21, 2, 14, 8, 17, 18, 23, 22, 12, 7, 26, 11, 25, 1, 23, 9, 12, 2, 4, 17, 27, 9, 13, 19, 15, 10, 12, 21, 25, 5, 1, 16, 17, 28, 23, 18, 10, 15, 18, 1, 11, 14, 10, 18, 12, 1, 23, 23, 25, 13, 27, 27, 6, 9, 11, 23, 6, 23, 14, 9, 15, 11, 24, 11, 29, 18, 6, 19, 16, 14, 26, 2, 14, 15, 25, 6, 21, 23, 25, 27, 5, 1, 17, 4, 7, 18, 8, 9, 10, 5, 21, 29, 9, 6, 2, 22, 12, 1, 13, 19, 6, 17, 21, 22, 26, 21, 10, 29, 8, 13, 10, 29, 6, 29, 16, 30, 5, 25, 14, 15, 15, 9, 24, 13, 5, 28, 18, 11, 21, 15, 12, 5, 16, 5, 29, 29, 29, 3, 10, 24, 16, 16, 12, 14, 6, 22, 21, 10, 10, 2, 14, 9, 29, 29, 2, 26, 11, 6, 7, 28, 10, 3, 24, 30, 2, 23, 9, 29, 27, 19, 1, 15, 11, 5, 7, 9, 26, 28, 27, 10, 20, 23, 29, 10, 15, 30, 13, 2, 11, 5, 9, 2, 30, 27, 14, 11, 20, 19, 1, 12, 10, 8, 6, 16, 3, 25, 5, 10, 24]"
   ]
  },
  {
   "cell_type": "code",
   "execution_count": 3,
   "id": "eae61e1b-1e98-4602-ab3d-d956dae19a1a",
   "metadata": {},
   "outputs": [
    {
     "name": "stdout",
     "output_type": "stream",
     "text": [
      "19\n",
      "22\n",
      "11\n",
      "18\n",
      "16\n",
      "9\n",
      "13\n",
      "24\n",
      "21\n",
      "10\n"
     ]
    }
   ],
   "source": [
    "#3.1\n",
    "'''\n",
    "write a function, that takes in the array as an argument, and outputs 10 values from the dataset,\n",
    "spaced out by indexes that are 25 apart (ie 0, 25, 50, etc)\n",
    "'''\n",
    "def threeone(list):           # defining our function\n",
    "    i=0                       \n",
    "    while i<=9:               # loop through 10 times\n",
    "        print (list[i*25])    # space values out by multiplying i by 25\n",
    "        i+= 1                 \n",
    "        \n",
    "threeone(influenza_genome)\n",
    "    "
   ]
  },
  {
   "cell_type": "code",
   "execution_count": 4,
   "id": "8750c63f-d65e-451d-a865-1869e436dfc6",
   "metadata": {},
   "outputs": [
    {
     "data": {
      "text/plain": [
       "[19, 6, 22, 25, 6, 22, 16, 29, 10, 28, 11, 5, 1, 19, 21, 18, 1, 29, 2, 13]"
      ]
     },
     "execution_count": 4,
     "metadata": {},
     "output_type": "execute_result"
    }
   ],
   "source": [
    "#3.2 \n",
    "'''\n",
    "write a function that takes in the dataset as an argument and outputs 20 values from the dataset, \n",
    "spaced out by indexes that are y apart (ie you can decide how far apart they should be iterated as long as they dont exceed the length of the dataset)\n",
    "'''\n",
    "def threetwo(list,space):                # defineing our fuction with a list and a variable to choose how far apart the values will be\n",
    "    outputlist=[]                        # This time we will put the output in a list\n",
    "    i=0\n",
    "    while i<=19:                         # loop through 20 values\n",
    "        outputlist.append(list[i*space]) # append each value to the output list\n",
    "        i+= 1\n",
    "    return (outputlist)                  \n",
    "threetwo(influenza_genome,5)"
   ]
  },
  {
   "cell_type": "code",
   "execution_count": null,
   "id": "8e6e98c4-48b8-4b19-b093-c2494a7d979b",
   "metadata": {},
   "outputs": [],
   "source": []
  }
 ],
 "metadata": {
  "kernelspec": {
   "display_name": "Python 3 (ipykernel)",
   "language": "python",
   "name": "python3"
  },
  "language_info": {
   "codemirror_mode": {
    "name": "ipython",
    "version": 3
   },
   "file_extension": ".py",
   "mimetype": "text/x-python",
   "name": "python",
   "nbconvert_exporter": "python",
   "pygments_lexer": "ipython3",
   "version": "3.12.4"
  }
 },
 "nbformat": 4,
 "nbformat_minor": 5
}
