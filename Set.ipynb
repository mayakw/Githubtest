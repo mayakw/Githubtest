{
 "cells": [
  {
   "cell_type": "markdown",
   "id": "d9bed31d",
   "metadata": {},
   "source": [
    "# Set\n",
    "- They are unique, unordered collection of values that share a property. \n",
    "- There can only be one representative of the same object."
   ]
  },
  {
   "cell_type": "code",
   "execution_count": 1,
   "id": "7fe78fa1",
   "metadata": {},
   "outputs": [
    {
     "data": {
      "text/plain": [
       "set()"
      ]
     },
     "execution_count": 1,
     "metadata": {},
     "output_type": "execute_result"
    }
   ],
   "source": [
    "my_set = set() #creating a set with variable named my_set\n",
    "my_set"
   ]
  },
  {
   "cell_type": "code",
   "execution_count": 3,
   "id": "d3a59c19",
   "metadata": {},
   "outputs": [
    {
     "data": {
      "text/plain": [
       "{1}"
      ]
     },
     "execution_count": 3,
     "metadata": {},
     "output_type": "execute_result"
    }
   ],
   "source": [
    "my_set.add(1) #adding an element in the set\n",
    "my_set"
   ]
  },
  {
   "cell_type": "code",
   "execution_count": 4,
   "id": "90665af1",
   "metadata": {},
   "outputs": [
    {
     "data": {
      "text/plain": [
       "{1, 2}"
      ]
     },
     "execution_count": 4,
     "metadata": {},
     "output_type": "execute_result"
    }
   ],
   "source": [
    "my_set.add(2) #adding second element to the set\n",
    "my_set"
   ]
  },
  {
   "cell_type": "markdown",
   "id": "f9fb519e",
   "metadata": {},
   "source": [
    "- Sets contain unique elements, which means that we cannot add duplicates "
   ]
  },
  {
   "cell_type": "code",
   "execution_count": 13,
   "id": "2d42b7ec",
   "metadata": {},
   "outputs": [
    {
     "data": {
      "text/plain": [
       "{1, 2}"
      ]
     },
     "execution_count": 13,
     "metadata": {},
     "output_type": "execute_result"
    }
   ],
   "source": [
    "my_set.add(2) #When I try to add the same element again, it won't let me add it \n",
    "my_set"
   ]
  },
  {
   "cell_type": "markdown",
   "id": "7e2ba473",
   "metadata": {},
   "source": [
    "- If you have duplicates in a list, we can use set to get unique values in the list"
   ]
  },
  {
   "cell_type": "code",
   "execution_count": 6,
   "id": "52179431",
   "metadata": {},
   "outputs": [
    {
     "data": {
      "text/plain": [
       "[1, 1, 1, 1, 1, 2, 2, 2, 3, 3, 3]"
      ]
     },
     "execution_count": 6,
     "metadata": {},
     "output_type": "execute_result"
    }
   ],
   "source": [
    "mylist = [1,1,1,1,1,2,2,2,3,3,3] #list can have duplicates\n",
    "mylist"
   ]
  },
  {
   "cell_type": "code",
   "execution_count": 7,
   "id": "d43aa9e5",
   "metadata": {},
   "outputs": [
    {
     "data": {
      "text/plain": [
       "{1, 2, 3}"
      ]
     },
     "execution_count": 7,
     "metadata": {},
     "output_type": "execute_result"
    }
   ],
   "source": [
    "set(mylist) #once we convert list to set, we get only unique elements in the list"
   ]
  },
  {
   "cell_type": "markdown",
   "id": "e7b479d4",
   "metadata": {},
   "source": [
    "- We can use different functions on set, such as union (get's all the element in both the list), intersection (common elements in the lists)"
   ]
  },
  {
   "cell_type": "code",
   "execution_count": 15,
   "id": "7b5b7b1b",
   "metadata": {},
   "outputs": [
    {
     "data": {
      "text/plain": [
       "{1, 2, 3, 4}"
      ]
     },
     "execution_count": 15,
     "metadata": {},
     "output_type": "execute_result"
    }
   ],
   "source": [
    "new_set = {1,2,3,4} #creating a new set\n",
    "new_set"
   ]
  },
  {
   "cell_type": "code",
   "execution_count": 9,
   "id": "10a6604d",
   "metadata": {},
   "outputs": [
    {
     "data": {
      "text/plain": [
       "{1, 2, 3, 4}"
      ]
     },
     "execution_count": 9,
     "metadata": {},
     "output_type": "execute_result"
    }
   ],
   "source": [
    "union = my_set.union(new_set) #getting all the elements in both sets\n",
    "union"
   ]
  },
  {
   "cell_type": "code",
   "execution_count": 17,
   "id": "a4bde9fd",
   "metadata": {},
   "outputs": [
    {
     "data": {
      "text/plain": [
       "{1, 2}"
      ]
     },
     "execution_count": 17,
     "metadata": {},
     "output_type": "execute_result"
    }
   ],
   "source": [
    "inter = my_set.intersection(new_set) #getting the common elements in both sets\n",
    "inter"
   ]
  }
 ],
 "metadata": {
  "kernelspec": {
   "display_name": "Python 3 (ipykernel)",
   "language": "python",
   "name": "python3"
  },
  "language_info": {
   "codemirror_mode": {
    "name": "ipython",
    "version": 3
   },
   "file_extension": ".py",
   "mimetype": "text/x-python",
   "name": "python",
   "nbconvert_exporter": "python",
   "pygments_lexer": "ipython3",
   "version": "3.12.4"
  }
 },
 "nbformat": 4,
 "nbformat_minor": 5
}
