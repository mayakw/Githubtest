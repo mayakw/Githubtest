{
 "cells": [
  {
   "cell_type": "code",
   "execution_count": 97,
   "id": "c7437421-c203-4241-b797-469a4c692cfd",
   "metadata": {},
   "outputs": [],
   "source": [
    "\n",
    "# -*- coding: utf-8 -*-\n",
    "#%% Libraries\n",
    "import pandas as pd\n",
    "import matplotlib.pyplot as plt\n",
    "import numpy as np\n",
    "#%% Importing Data\n",
    "flights_data = pd.read_csv('flights.csv')\n",
    "flights_data.head(10)\n",
    "weather_data_pd = pd.read_csv('weather.csv')\n",
    "weather_data_np = weather_data_pd.to_numpy()"
   ]
  },
  {
   "cell_type": "code",
   "execution_count": 13,
   "id": "082a6e7d-228d-43ee-ab52-d6f79473eb58",
   "metadata": {},
   "outputs": [
    {
     "data": {
      "text/plain": [
       "2113"
      ]
     },
     "execution_count": 13,
     "metadata": {},
     "output_type": "execute_result"
    }
   ],
   "source": [
    "#q_1\n",
    "#Question 1 How many flights were there from JFK to SLC? Int\n",
    "len(flights_data.loc[(flights_data['origin']=='JFK') & (flights_data['dest']=='SLC')])"
   ]
  },
  {
   "cell_type": "code",
   "execution_count": 19,
   "id": "88ed42f5-bff2-4798-a56c-d6c9192314b5",
   "metadata": {},
   "outputs": [
    {
     "name": "stdout",
     "output_type": "stream",
     "text": [
      "2\n"
     ]
    }
   ],
   "source": [
    "#q_2\n",
    "#Question 2 How many airlines fly to SLC? Should be int\n",
    "dest_SLC_mask = flights_data['dest']=='SLC'\n",
    "carriers = flights_data[dest_SLC_mask]['carrier'].nunique()\n",
    "print (carriers)"
   ]
  },
  {
   "cell_type": "code",
   "execution_count": 22,
   "id": "d5401f2b-818a-41c6-874d-3e536c91440e",
   "metadata": {},
   "outputs": [
    {
     "name": "stdout",
     "output_type": "stream",
     "text": [
      "10.052380952380952\n"
     ]
    }
   ],
   "source": [
    "#q_3\n",
    "#Question 4 What proportion of flights to SEA come from the two NYC airports (LGA and JFK)? float\n",
    "dest_RDU_mask = flights_data['dest']=='RDU'\n",
    "delay = flights_data[dest_RDU_mask]['arr_delay'].mean()\n",
    "print(delay)\n"
   ]
  },
  {
   "cell_type": "code",
   "execution_count": 33,
   "id": "f7720e8b-1c5e-48eb-b2b5-b38a70073fe0",
   "metadata": {},
   "outputs": [
    {
     "name": "stdout",
     "output_type": "stream",
     "text": [
      "2092 3923\n",
      "0.5332653581442773\n"
     ]
    }
   ],
   "source": [
    "#q_4\n",
    "#Question 4 What proportion of flights to SEA come from the two NYC airports (LGA and JFK)? float\n",
    "dest_SEA_mask = flights_data['dest']=='SEA'\n",
    "sea = flights_data[dest_SEA_mask]\n",
    "total = len(sea)\n",
    "JFK_mask = sea['origin']=='JFK'\n",
    "LGA_mask = sea['origin']=='LGA'\n",
    "NYC_mask = JFK_mask | LGA_mask\n",
    "NYCtoSEA = sea[NYC_mask]\n",
    "ny = len(NYCtoSEA)\n",
    "print (ny, total)\n",
    "answer = ny/total\n",
    "print (answer)"
   ]
  },
  {
   "cell_type": "code",
   "execution_count": 79,
   "id": "146d9d2d-938a-49d5-bd4b-cd130b7b1f3c",
   "metadata": {},
   "outputs": [
    {
     "data": {
      "text/plain": [
       "dep_delay    83.536921\n",
       "Name: 2013/3/8, dtype: float64"
      ]
     },
     "execution_count": 79,
     "metadata": {},
     "output_type": "execute_result"
    }
   ],
   "source": [
    "#q_5\n",
    "#Question 5 Which date has the largest average depature delay? Pd slice with date and float\n",
    "#please make date a column. Preferred format is 2013/1/1 (y/m/d)\n",
    "flights_data['date']=flights_data['year'].astype(str)+'/'+flights_data['month'].astype(str)+'/'+flights_data['day'].astype(str)\n",
    "s = flights_data.groupby('date').dep_delay.mean()\n",
    "delay_by_date = s.to_frame()\n",
    "delay_by_date.loc[delay_by_date[\"dep_delay\"].idxmax()]"
   ]
  },
  {
   "cell_type": "code",
   "execution_count": 81,
   "id": "731f7a70-5acd-4f94-a3e0-14c7b8e2fa3b",
   "metadata": {},
   "outputs": [
    {
     "data": {
      "text/plain": [
       "arr_delay    85.862155\n",
       "Name: 2013/3/8, dtype: float64"
      ]
     },
     "execution_count": 81,
     "metadata": {},
     "output_type": "execute_result"
    }
   ],
   "source": [
    "#q_6\n",
    "#Question 6 Which date has the largest average arrival delay? pd slice with date and float\n",
    "flights_data['date']=flights_data['year'].astype(str)+'/'+flights_data['month'].astype(str)+'/'+flights_data['day'].astype(str)\n",
    "flights_data.head()\n",
    "s = flights_data.groupby('date').arr_delay.mean()\n",
    "delay_by_date = s.to_frame()\n",
    "delay_by_date.loc[delay_by_date[\"arr_delay\"].idxmax()]"
   ]
  },
  {
   "cell_type": "code",
   "execution_count": 95,
   "id": "74a3de19-4071-4f36-9644-56c626c31d95",
   "metadata": {},
   "outputs": [
    {
     "data": {
      "text/plain": [
       "tailnum       N666DN\n",
       "speed      11.723077\n",
       "Name: 216447, dtype: object"
      ]
     },
     "execution_count": 95,
     "metadata": {},
     "output_type": "execute_result"
    }
   ],
   "source": [
    "#q_7\n",
    "#Question 7 Which flight departing LGA or JFK in 2013 flew the fastest? pd slice with tailnumber and speed\n",
    "#speed = distance/airtime\n",
    "\n",
    "flights_data['speed'] = flights_data['distance']/flights_data['air_time']\n",
    "flights_data.head()\n",
    "mask2013 = flights_data['year']==2013\n",
    "flight2013 = flights_data[mask2013]\n",
    "LGA_mask = flight2013['origin']=='LGA'\n",
    "JFK_mask = flight2013['origin']=='JFK'\n",
    "origin_mask = JFK_mask | LGA_mask\n",
    "finaldf = flight2013[origin_mask].iloc[:, [9,17]]\n",
    "finaldf.loc[finaldf[\"speed\"].idxmax()]"
   ]
  },
  {
   "cell_type": "code",
   "execution_count": 101,
   "id": "1e2554c3-e3a5-471e-98b3-0f6961b3a68e",
   "metadata": {},
   "outputs": [
    {
     "data": {
      "text/html": [
       "<div>\n",
       "<style scoped>\n",
       "    .dataframe tbody tr th:only-of-type {\n",
       "        vertical-align: middle;\n",
       "    }\n",
       "\n",
       "    .dataframe tbody tr th {\n",
       "        vertical-align: top;\n",
       "    }\n",
       "\n",
       "    .dataframe thead th {\n",
       "        text-align: right;\n",
       "    }\n",
       "</style>\n",
       "<table border=\"1\" class=\"dataframe\">\n",
       "  <thead>\n",
       "    <tr style=\"text-align: right;\">\n",
       "      <th></th>\n",
       "      <th>Unnamed: 0</th>\n",
       "      <th>origin</th>\n",
       "      <th>year</th>\n",
       "      <th>month</th>\n",
       "      <th>day</th>\n",
       "      <th>hour</th>\n",
       "      <th>temp</th>\n",
       "      <th>dewp</th>\n",
       "      <th>humid</th>\n",
       "      <th>wind_dir</th>\n",
       "      <th>wind_speed</th>\n",
       "      <th>wind_gust</th>\n",
       "      <th>precip</th>\n",
       "      <th>pressure</th>\n",
       "      <th>visib</th>\n",
       "    </tr>\n",
       "  </thead>\n",
       "  <tbody>\n",
       "    <tr>\n",
       "      <th>0</th>\n",
       "      <td>1</td>\n",
       "      <td>EWR</td>\n",
       "      <td>2013</td>\n",
       "      <td>1.0</td>\n",
       "      <td>1.0</td>\n",
       "      <td>0.0</td>\n",
       "      <td>37.04</td>\n",
       "      <td>21.92</td>\n",
       "      <td>53.97</td>\n",
       "      <td>230.0</td>\n",
       "      <td>10.35702</td>\n",
       "      <td>11.918651</td>\n",
       "      <td>0.0</td>\n",
       "      <td>1013.9</td>\n",
       "      <td>10.0</td>\n",
       "    </tr>\n",
       "    <tr>\n",
       "      <th>1</th>\n",
       "      <td>2</td>\n",
       "      <td>EWR</td>\n",
       "      <td>2013</td>\n",
       "      <td>1.0</td>\n",
       "      <td>1.0</td>\n",
       "      <td>1.0</td>\n",
       "      <td>37.04</td>\n",
       "      <td>21.92</td>\n",
       "      <td>53.97</td>\n",
       "      <td>230.0</td>\n",
       "      <td>13.80936</td>\n",
       "      <td>15.891535</td>\n",
       "      <td>0.0</td>\n",
       "      <td>1013.0</td>\n",
       "      <td>10.0</td>\n",
       "    </tr>\n",
       "    <tr>\n",
       "      <th>2</th>\n",
       "      <td>3</td>\n",
       "      <td>EWR</td>\n",
       "      <td>2013</td>\n",
       "      <td>1.0</td>\n",
       "      <td>1.0</td>\n",
       "      <td>2.0</td>\n",
       "      <td>37.94</td>\n",
       "      <td>21.92</td>\n",
       "      <td>52.09</td>\n",
       "      <td>230.0</td>\n",
       "      <td>12.65858</td>\n",
       "      <td>14.567241</td>\n",
       "      <td>0.0</td>\n",
       "      <td>1012.6</td>\n",
       "      <td>10.0</td>\n",
       "    </tr>\n",
       "    <tr>\n",
       "      <th>3</th>\n",
       "      <td>4</td>\n",
       "      <td>EWR</td>\n",
       "      <td>2013</td>\n",
       "      <td>1.0</td>\n",
       "      <td>1.0</td>\n",
       "      <td>3.0</td>\n",
       "      <td>37.94</td>\n",
       "      <td>23.00</td>\n",
       "      <td>54.51</td>\n",
       "      <td>230.0</td>\n",
       "      <td>13.80936</td>\n",
       "      <td>15.891535</td>\n",
       "      <td>0.0</td>\n",
       "      <td>1012.7</td>\n",
       "      <td>10.0</td>\n",
       "    </tr>\n",
       "    <tr>\n",
       "      <th>4</th>\n",
       "      <td>5</td>\n",
       "      <td>EWR</td>\n",
       "      <td>2013</td>\n",
       "      <td>1.0</td>\n",
       "      <td>1.0</td>\n",
       "      <td>4.0</td>\n",
       "      <td>37.94</td>\n",
       "      <td>24.08</td>\n",
       "      <td>57.04</td>\n",
       "      <td>240.0</td>\n",
       "      <td>14.96014</td>\n",
       "      <td>17.215830</td>\n",
       "      <td>0.0</td>\n",
       "      <td>1012.8</td>\n",
       "      <td>10.0</td>\n",
       "    </tr>\n",
       "    <tr>\n",
       "      <th>...</th>\n",
       "      <td>...</td>\n",
       "      <td>...</td>\n",
       "      <td>...</td>\n",
       "      <td>...</td>\n",
       "      <td>...</td>\n",
       "      <td>...</td>\n",
       "      <td>...</td>\n",
       "      <td>...</td>\n",
       "      <td>...</td>\n",
       "      <td>...</td>\n",
       "      <td>...</td>\n",
       "      <td>...</td>\n",
       "      <td>...</td>\n",
       "      <td>...</td>\n",
       "      <td>...</td>\n",
       "    </tr>\n",
       "    <tr>\n",
       "      <th>8714</th>\n",
       "      <td>8715</td>\n",
       "      <td>JFK</td>\n",
       "      <td>2013</td>\n",
       "      <td>9.0</td>\n",
       "      <td>2.0</td>\n",
       "      <td>20.0</td>\n",
       "      <td>75.20</td>\n",
       "      <td>73.40</td>\n",
       "      <td>94.14</td>\n",
       "      <td>200.0</td>\n",
       "      <td>4.60312</td>\n",
       "      <td>5.297178</td>\n",
       "      <td>0.0</td>\n",
       "      <td>0.0</td>\n",
       "      <td>4.0</td>\n",
       "    </tr>\n",
       "    <tr>\n",
       "      <th>8715</th>\n",
       "      <td>8716</td>\n",
       "      <td>JFK</td>\n",
       "      <td>2013</td>\n",
       "      <td>10.0</td>\n",
       "      <td>23.0</td>\n",
       "      <td>10.0</td>\n",
       "      <td>48.92</td>\n",
       "      <td>39.02</td>\n",
       "      <td>68.51</td>\n",
       "      <td>60.0</td>\n",
       "      <td>4.60312</td>\n",
       "      <td>5.297178</td>\n",
       "      <td>0.0</td>\n",
       "      <td>1008.1</td>\n",
       "      <td>10.0</td>\n",
       "    </tr>\n",
       "    <tr>\n",
       "      <th>8716</th>\n",
       "      <td>8717</td>\n",
       "      <td>JFK</td>\n",
       "      <td>2013</td>\n",
       "      <td>10.0</td>\n",
       "      <td>23.0</td>\n",
       "      <td>11.0</td>\n",
       "      <td>48.92</td>\n",
       "      <td>39.02</td>\n",
       "      <td>68.51</td>\n",
       "      <td>40.0</td>\n",
       "      <td>4.60312</td>\n",
       "      <td>5.297178</td>\n",
       "      <td>0.0</td>\n",
       "      <td>1008.5</td>\n",
       "      <td>10.0</td>\n",
       "    </tr>\n",
       "    <tr>\n",
       "      <th>8717</th>\n",
       "      <td>8718</td>\n",
       "      <td>JFK</td>\n",
       "      <td>2013</td>\n",
       "      <td>12.0</td>\n",
       "      <td>17.0</td>\n",
       "      <td>5.0</td>\n",
       "      <td>26.96</td>\n",
       "      <td>10.94</td>\n",
       "      <td>50.34</td>\n",
       "      <td>40.0</td>\n",
       "      <td>4.60312</td>\n",
       "      <td>5.297178</td>\n",
       "      <td>0.0</td>\n",
       "      <td>1023.9</td>\n",
       "      <td>10.0</td>\n",
       "    </tr>\n",
       "    <tr>\n",
       "      <th>8718</th>\n",
       "      <td>8719</td>\n",
       "      <td>LGA</td>\n",
       "      <td>2013</td>\n",
       "      <td>8.0</td>\n",
       "      <td>22.0</td>\n",
       "      <td>22.0</td>\n",
       "      <td>75.92</td>\n",
       "      <td>66.92</td>\n",
       "      <td>73.68</td>\n",
       "      <td>210.0</td>\n",
       "      <td>8.05546</td>\n",
       "      <td>9.270062</td>\n",
       "      <td>0.0</td>\n",
       "      <td>1011.9</td>\n",
       "      <td>10.0</td>\n",
       "    </tr>\n",
       "  </tbody>\n",
       "</table>\n",
       "<p>8719 rows × 15 columns</p>\n",
       "</div>"
      ],
      "text/plain": [
       "      Unnamed: 0 origin  year  month   day  hour   temp   dewp  humid  \\\n",
       "0              1    EWR  2013    1.0   1.0   0.0  37.04  21.92  53.97   \n",
       "1              2    EWR  2013    1.0   1.0   1.0  37.04  21.92  53.97   \n",
       "2              3    EWR  2013    1.0   1.0   2.0  37.94  21.92  52.09   \n",
       "3              4    EWR  2013    1.0   1.0   3.0  37.94  23.00  54.51   \n",
       "4              5    EWR  2013    1.0   1.0   4.0  37.94  24.08  57.04   \n",
       "...          ...    ...   ...    ...   ...   ...    ...    ...    ...   \n",
       "8714        8715    JFK  2013    9.0   2.0  20.0  75.20  73.40  94.14   \n",
       "8715        8716    JFK  2013   10.0  23.0  10.0  48.92  39.02  68.51   \n",
       "8716        8717    JFK  2013   10.0  23.0  11.0  48.92  39.02  68.51   \n",
       "8717        8718    JFK  2013   12.0  17.0   5.0  26.96  10.94  50.34   \n",
       "8718        8719    LGA  2013    8.0  22.0  22.0  75.92  66.92  73.68   \n",
       "\n",
       "      wind_dir  wind_speed  wind_gust  precip  pressure  visib  \n",
       "0        230.0    10.35702  11.918651     0.0    1013.9   10.0  \n",
       "1        230.0    13.80936  15.891535     0.0    1013.0   10.0  \n",
       "2        230.0    12.65858  14.567241     0.0    1012.6   10.0  \n",
       "3        230.0    13.80936  15.891535     0.0    1012.7   10.0  \n",
       "4        240.0    14.96014  17.215830     0.0    1012.8   10.0  \n",
       "...        ...         ...        ...     ...       ...    ...  \n",
       "8714     200.0     4.60312   5.297178     0.0       0.0    4.0  \n",
       "8715      60.0     4.60312   5.297178     0.0    1008.1   10.0  \n",
       "8716      40.0     4.60312   5.297178     0.0    1008.5   10.0  \n",
       "8717      40.0     4.60312   5.297178     0.0    1023.9   10.0  \n",
       "8718     210.0     8.05546   9.270062     0.0    1011.9   10.0  \n",
       "\n",
       "[8719 rows x 15 columns]"
      ]
     },
     "execution_count": 101,
     "metadata": {},
     "output_type": "execute_result"
    }
   ],
   "source": [
    "#q_8\n",
    "#Question 8 Replace all nans in the weather pd dataframe with 0s. Pd with no nans\n",
    "weather_data_pd.fillna(0)"
   ]
  },
  {
   "cell_type": "code",
   "execution_count": 107,
   "id": "85aaa996-842a-4f79-9a24-c08c5cd04cd3",
   "metadata": {},
   "outputs": [
    {
     "name": "stdout",
     "output_type": "stream",
     "text": [
      "671\n"
     ]
    }
   ],
   "source": [
    "#q_9\n",
    "#Question 9 How many observations were made in Feburary? Int\n",
    "month = weather_data_np[:, 3] \n",
    "print (np.count_nonzero(month == 2.0))"
   ]
  },
  {
   "cell_type": "code",
   "execution_count": 123,
   "id": "e01d275c-d869-4a36-b70e-2a916a4b5f7b",
   "metadata": {},
   "outputs": [
    {
     "name": "stdout",
     "output_type": "stream",
     "text": [
      "62.918152011922515\n"
     ]
    }
   ],
   "source": [
    "#q_10\n",
    "#Question 10 What was the mean for humidity in February? Float\n",
    "month_hum = weather_data_np[:,(3,8)]\n",
    "mask = (month_hum[:, 0] == 2.0)\n",
    "feb = month_hum[mask, :]\n",
    "mean_feb_hum = np.mean(feb[:, 1])\n",
    "print (mean_feb_hum)\n"
   ]
  },
  {
   "cell_type": "code",
   "execution_count": 126,
   "id": "da419caf-4ab3-4016-bca7-3559605ae58d",
   "metadata": {},
   "outputs": [
    {
     "name": "stdout",
     "output_type": "stream",
     "text": [
      "20.33690087674334\n"
     ]
    }
   ],
   "source": [
    "#Question 11 What was the std for humidity in February? Float\n",
    "# q_11\n",
    "month_hum = weather_data_np[:,(3,8)]\n",
    "mask = (month_hum[:, 0] == 2.0)\n",
    "feb = month_hum[mask, :]\n",
    "std = np.std(feb[:,1])\n",
    "print (std)"
   ]
  }
 ],
 "metadata": {
  "kernelspec": {
   "display_name": "Python 3 (ipykernel)",
   "language": "python",
   "name": "python3"
  },
  "language_info": {
   "codemirror_mode": {
    "name": "ipython",
    "version": 3
   },
   "file_extension": ".py",
   "mimetype": "text/x-python",
   "name": "python",
   "nbconvert_exporter": "python",
   "pygments_lexer": "ipython3",
   "version": "3.12.4"
  }
 },
 "nbformat": 4,
 "nbformat_minor": 5
}
