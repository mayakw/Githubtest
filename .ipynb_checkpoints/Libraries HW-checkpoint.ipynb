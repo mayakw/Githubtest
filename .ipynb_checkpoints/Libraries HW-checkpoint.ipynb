{
 "cells": [
  {
   "cell_type": "markdown",
   "id": "21b36bac-3956-41d9-8331-6036b2afe0ea",
   "metadata": {},
   "source": [
    "SQLAlchemy\n",
    "\n",
    "#1\n",
    "SQLAlchemy is a toolkit for working with relational databases and running SQL querys within Python.\n",
    "It consists of two main components, the SQLAlchemy Core and the SQLAlchemy ORM, which can be installed via pip.\n",
    "\n",
    "The SQLAlchemy Core is the main library of SQLAlchemy and acts as the base of the toolkit. The Core provides the tools for managing and interacting with the database, queries, and query results. The Core notably contains the SQL Expression Language allows for the ability to construct and execute SQL expressions.\n",
    "The ORM is an optional toolset that builds on the Core, and provides object relational mapping capabilites. The ORM allows for mapping of Python classes to SQL database tables. Using the ORM in conjuction witht the SQLAlchemy Core shifts the code to be more object oriented \n",
    "\n",
    "#2\n",
    "SLQAlchemy is a powerful tool for working with datasets, by mapping the tables from an SQL database onto python objects, it also allows the user to selects rows from joins and other SQL queries, which is not an option in SQL. Code written for SLQAlchemy is broadly applicable to any database, unlike code written in SQLite.\n",
    "The use of SQLAlchemy ORM creates a layer of abstraction over the actual database, which can cause some loses in effeciency, as well as making it easy for a user to not understand what is actually happening in the database.\n"
   ]
  },
  {
   "cell_type": "code",
   "execution_count": 3,
   "id": "67220048-12f1-461c-887f-c0590f33e7d8",
   "metadata": {},
   "outputs": [
    {
     "name": "stdout",
     "output_type": "stream",
     "text": [
      "Requirement already satisfied: SQLAlchemy in c:\\users\\mayak\\anaconda3\\lib\\site-packages (2.0.30)\n",
      "Requirement already satisfied: typing-extensions>=4.6.0 in c:\\users\\mayak\\anaconda3\\lib\\site-packages (from SQLAlchemy) (4.11.0)\n",
      "Requirement already satisfied: greenlet!=0.4.17 in c:\\users\\mayak\\anaconda3\\lib\\site-packages (from SQLAlchemy) (3.0.1)\n"
     ]
    }
   ],
   "source": [
    "#3\n",
    "!pip install SQLAlchemy\n"
   ]
  },
  {
   "cell_type": "code",
   "execution_count": 5,
   "id": "5d2738a0-6955-4486-ba38-2f7da53b3469",
   "metadata": {},
   "outputs": [
    {
     "data": {
      "text/plain": [
       "'2.0.30'"
      ]
     },
     "execution_count": 5,
     "metadata": {},
     "output_type": "execute_result"
    }
   ],
   "source": [
    "import sqlalchemy\n",
    "sqlalchemy.__version__  "
   ]
  },
  {
   "cell_type": "code",
   "execution_count": null,
   "id": "b1a5e3d6-9285-4bf8-9928-c9a71d945b27",
   "metadata": {},
   "outputs": [],
   "source": [
    "#This is just me working through the tutorial"
   ]
  },
  {
   "cell_type": "code",
   "execution_count": 6,
   "id": "d0014126-2705-4a44-9aac-f17d5c4baa7a",
   "metadata": {},
   "outputs": [],
   "source": [
    "from sqlalchemy import create_engine\n",
    "engine = create_engine(\"sqlite+pysqlite:///:memory:\", echo=True)"
   ]
  },
  {
   "cell_type": "code",
   "execution_count": 7,
   "id": "de422b28-5719-4313-8703-6a8b91b3fb35",
   "metadata": {},
   "outputs": [
    {
     "name": "stdout",
     "output_type": "stream",
     "text": [
      "2024-11-17 16:31:25,019 INFO sqlalchemy.engine.Engine BEGIN (implicit)\n",
      "2024-11-17 16:31:25,028 INFO sqlalchemy.engine.Engine select 'hello world'\n",
      "2024-11-17 16:31:25,065 INFO sqlalchemy.engine.Engine [generated in 0.04852s] ()\n",
      "[('hello world',)]\n",
      "2024-11-17 16:31:25,092 INFO sqlalchemy.engine.Engine ROLLBACK\n"
     ]
    }
   ],
   "source": [
    "from sqlalchemy import text\n",
    "\n",
    "with engine.connect() as conn:\n",
    "    result = conn.execute(text(\"select 'hello world'\"))\n",
    "    print(result.all())"
   ]
  },
  {
   "cell_type": "code",
   "execution_count": 8,
   "id": "bef6b162-cef5-4ff2-8d0b-9035b96bb58f",
   "metadata": {},
   "outputs": [
    {
     "name": "stdout",
     "output_type": "stream",
     "text": [
      "2024-11-17 16:33:06,285 INFO sqlalchemy.engine.Engine BEGIN (implicit)\n",
      "2024-11-17 16:33:06,289 INFO sqlalchemy.engine.Engine CREATE TABLE some_table (x int, y int)\n",
      "2024-11-17 16:33:06,293 INFO sqlalchemy.engine.Engine [generated in 0.00781s] ()\n",
      "2024-11-17 16:33:06,295 INFO sqlalchemy.engine.Engine INSERT INTO some_table (x, y) VALUES (?, ?)\n",
      "2024-11-17 16:33:06,295 INFO sqlalchemy.engine.Engine [generated in 0.00408s] [(1, 1), (2, 4)]\n",
      "2024-11-17 16:33:06,304 INFO sqlalchemy.engine.Engine COMMIT\n"
     ]
    }
   ],
   "source": [
    "with engine.connect() as conn:\n",
    "    conn.execute(text(\"CREATE TABLE some_table (x int, y int)\"))\n",
    "    conn.execute(\n",
    "        text(\"INSERT INTO some_table (x, y) VALUES (:x, :y)\"),\n",
    "        [{\"x\": 1, \"y\": 1}, {\"x\": 2, \"y\": 4}],\n",
    "    )\n",
    "    conn.commit()"
   ]
  },
  {
   "cell_type": "code",
   "execution_count": 9,
   "id": "ff841410-3732-4dbc-b6dd-f6c26c0a6d4f",
   "metadata": {},
   "outputs": [
    {
     "name": "stdout",
     "output_type": "stream",
     "text": [
      "2024-11-17 16:35:09,169 INFO sqlalchemy.engine.Engine BEGIN (implicit)\n",
      "2024-11-17 16:35:09,177 INFO sqlalchemy.engine.Engine INSERT INTO some_table (x, y) VALUES (?, ?)\n",
      "2024-11-17 16:35:09,178 INFO sqlalchemy.engine.Engine [cached since 122.9s ago] [(6, 8), (9, 10)]\n",
      "2024-11-17 16:35:09,188 INFO sqlalchemy.engine.Engine COMMIT\n"
     ]
    }
   ],
   "source": [
    "with engine.begin() as conn:\n",
    "    conn.execute(\n",
    "        text(\"INSERT INTO some_table (x, y) VALUES (:x, :y)\"),\n",
    "        [{\"x\": 6, \"y\": 8}, {\"x\": 9, \"y\": 10}],\n",
    "    )"
   ]
  },
  {
   "cell_type": "code",
   "execution_count": 10,
   "id": "d76041fb-227a-4906-a0c8-4160f191fcbe",
   "metadata": {},
   "outputs": [
    {
     "name": "stdout",
     "output_type": "stream",
     "text": [
      "2024-11-17 16:37:49,253 INFO sqlalchemy.engine.Engine BEGIN (implicit)\n",
      "2024-11-17 16:37:49,253 INFO sqlalchemy.engine.Engine SELECT x, y FROM some_table\n",
      "2024-11-17 16:37:49,261 INFO sqlalchemy.engine.Engine [generated in 0.00961s] ()\n",
      "x: 1  y: 1\n",
      "x: 2  y: 4\n",
      "x: 6  y: 8\n",
      "x: 9  y: 10\n",
      "2024-11-17 16:37:49,261 INFO sqlalchemy.engine.Engine ROLLBACK\n"
     ]
    }
   ],
   "source": [
    "with engine.connect() as conn:\n",
    "    result = conn.execute(text(\"SELECT x, y FROM some_table\"))\n",
    "    for row in result:\n",
    "        print(f\"x: {row.x}  y: {row.y}\")"
   ]
  },
  {
   "cell_type": "code",
   "execution_count": 11,
   "id": "a1c2196b-1cc6-4795-a9c3-e619e1fd6559",
   "metadata": {},
   "outputs": [
    {
     "name": "stdout",
     "output_type": "stream",
     "text": [
      "2024-11-17 17:39:30,072 INFO sqlalchemy.engine.Engine BEGIN (implicit)\n",
      "2024-11-17 17:39:30,076 INFO sqlalchemy.engine.Engine INSERT INTO some_table (x, y) VALUES (?, ?)\n",
      "2024-11-17 17:39:30,080 INFO sqlalchemy.engine.Engine [cached since 3984s ago] [(11, 12), (13, 14)]\n",
      "2024-11-17 17:39:30,089 INFO sqlalchemy.engine.Engine COMMIT\n"
     ]
    }
   ],
   "source": [
    "with engine.connect() as conn:\n",
    "    conn.execute(\n",
    "        text(\"INSERT INTO some_table (x, y) VALUES (:x, :y)\"),\n",
    "        [{\"x\": 11, \"y\": 12}, {\"x\": 13, \"y\": 14}],\n",
    "    )\n",
    "    conn.commit()"
   ]
  },
  {
   "cell_type": "code",
   "execution_count": 12,
   "id": "9d79af8d-6dbc-4958-b92a-aed2c806b2bb",
   "metadata": {},
   "outputs": [
    {
     "name": "stdout",
     "output_type": "stream",
     "text": [
      "2024-11-17 17:40:23,032 INFO sqlalchemy.engine.Engine BEGIN (implicit)\n",
      "2024-11-17 17:40:23,044 INFO sqlalchemy.engine.Engine INSERT INTO some_table (x, y) VALUES (?, ?)\n",
      "2024-11-17 17:40:23,066 INFO sqlalchemy.engine.Engine [cached since 4037s ago] [(11, 12), (13, 14)]\n",
      "2024-11-17 17:40:23,070 INFO sqlalchemy.engine.Engine COMMIT\n"
     ]
    }
   ],
   "source": [
    "with engine.connect() as conn:\n",
    "    conn.execute(\n",
    "        text(\"INSERT INTO some_table (x, y) VALUES (:x, :y)\"),\n",
    "        [{\"x\": 11, \"y\": 12}, {\"x\": 13, \"y\": 14}],\n",
    "    )\n",
    "    conn.commit()"
   ]
  },
  {
   "cell_type": "code",
   "execution_count": 13,
   "id": "41262636-da69-4096-a995-9599f969c286",
   "metadata": {},
   "outputs": [
    {
     "name": "stdout",
     "output_type": "stream",
     "text": [
      "2024-11-17 17:40:45,328 INFO sqlalchemy.engine.Engine BEGIN (implicit)\n",
      "2024-11-17 17:40:45,328 INFO sqlalchemy.engine.Engine SELECT x, y FROM some_table\n",
      "2024-11-17 17:40:45,336 INFO sqlalchemy.engine.Engine [cached since 3776s ago] ()\n",
      "x: 1  y: 1\n",
      "x: 2  y: 4\n",
      "x: 6  y: 8\n",
      "x: 9  y: 10\n",
      "x: 11  y: 12\n",
      "x: 13  y: 14\n",
      "x: 11  y: 12\n",
      "x: 13  y: 14\n",
      "2024-11-17 17:40:45,336 INFO sqlalchemy.engine.Engine ROLLBACK\n"
     ]
    }
   ],
   "source": [
    "with engine.connect() as conn:\n",
    "    result = conn.execute(text(\"SELECT x, y FROM some_table\"))\n",
    "    for row in result:\n",
    "        print(f\"x: {row.x}  y: {row.y}\")"
   ]
  },
  {
   "cell_type": "code",
   "execution_count": 14,
   "id": "7d9ad029-7927-488f-bd05-c7288e5c8cd9",
   "metadata": {},
   "outputs": [
    {
     "name": "stdout",
     "output_type": "stream",
     "text": [
      "2024-11-17 17:41:11,148 INFO sqlalchemy.engine.Engine BEGIN (implicit)\n",
      "2024-11-17 17:41:11,157 INFO sqlalchemy.engine.Engine SELECT x, y FROM some_table WHERE y > ? ORDER BY x, y\n",
      "2024-11-17 17:41:11,164 INFO sqlalchemy.engine.Engine [generated in 0.00454s] (6,)\n",
      "x: 6  y: 8\n",
      "x: 9  y: 10\n",
      "x: 11  y: 12\n",
      "x: 11  y: 12\n",
      "x: 13  y: 14\n",
      "x: 13  y: 14\n",
      "2024-11-17 17:41:11,164 INFO sqlalchemy.engine.Engine ROLLBACK\n"
     ]
    }
   ],
   "source": [
    "from sqlalchemy.orm import Session\n",
    "\n",
    "stmt = text(\"SELECT x, y FROM some_table WHERE y > :y ORDER BY x, y\")\n",
    "with Session(engine) as session:\n",
    "    result = session.execute(stmt, {\"y\": 6})\n",
    "    for row in result:\n",
    "        print(f\"x: {row.x}  y: {row.y}\")"
   ]
  },
  {
   "cell_type": "code",
   "execution_count": 15,
   "id": "8064ac42-4ed1-439d-8b56-5213ce5ce02e",
   "metadata": {},
   "outputs": [
    {
     "name": "stdout",
     "output_type": "stream",
     "text": [
      "2024-11-17 17:41:50,373 INFO sqlalchemy.engine.Engine BEGIN (implicit)\n",
      "2024-11-17 17:41:50,373 INFO sqlalchemy.engine.Engine UPDATE some_table SET y=? WHERE x=?\n",
      "2024-11-17 17:41:50,373 INFO sqlalchemy.engine.Engine [generated in 0.00116s] [(11, 9), (15, 13)]\n",
      "2024-11-17 17:41:50,381 INFO sqlalchemy.engine.Engine COMMIT\n"
     ]
    }
   ],
   "source": [
    "with Session(engine) as session:\n",
    "    result = session.execute(\n",
    "        text(\"UPDATE some_table SET y=:y WHERE x=:x\"),\n",
    "        [{\"x\": 9, \"y\": 11}, {\"x\": 13, \"y\": 15}],\n",
    "    )\n",
    "    session.commit()"
   ]
  },
  {
   "cell_type": "code",
   "execution_count": 16,
   "id": "eee17569-7ea9-4914-af74-9ba5d3869fb9",
   "metadata": {},
   "outputs": [],
   "source": [
    "from sqlalchemy import MetaData\n",
    "metadata_obj = MetaData()"
   ]
  },
  {
   "cell_type": "code",
   "execution_count": 17,
   "id": "26c9550b-5838-4437-8cd4-3e0b88e2c59d",
   "metadata": {},
   "outputs": [],
   "source": [
    "from sqlalchemy import Table, Column, Integer, String\n",
    "user_table = Table(\n",
    "    \"user_account\",\n",
    "    metadata_obj,\n",
    "    Column(\"id\", Integer, primary_key=True),\n",
    "    Column(\"name\", String(30)),\n",
    "    Column(\"fullname\", String),\n",
    ")"
   ]
  },
  {
   "cell_type": "code",
   "execution_count": 20,
   "id": "60cbbe36-ca0f-41c7-926f-c29d5dc59050",
   "metadata": {},
   "outputs": [
    {
     "data": {
      "text/plain": [
       "Column('name', String(length=30), table=<user_account>)"
      ]
     },
     "execution_count": 20,
     "metadata": {},
     "output_type": "execute_result"
    }
   ],
   "source": [
    "user_table.c.name"
   ]
  },
  {
   "cell_type": "code",
   "execution_count": 21,
   "id": "50ddba65-d594-411b-9859-6bcad3475fe1",
   "metadata": {},
   "outputs": [
    {
     "data": {
      "text/plain": [
       "['id', 'name', 'fullname']"
      ]
     },
     "execution_count": 21,
     "metadata": {},
     "output_type": "execute_result"
    }
   ],
   "source": [
    "user_table.c.keys()"
   ]
  },
  {
   "cell_type": "code",
   "execution_count": 22,
   "id": "56a55009-094e-41fb-b238-ef47931f3558",
   "metadata": {},
   "outputs": [
    {
     "data": {
      "text/plain": [
       "PrimaryKeyConstraint(Column('id', Integer(), table=<user_account>, primary_key=True, nullable=False))"
      ]
     },
     "execution_count": 22,
     "metadata": {},
     "output_type": "execute_result"
    }
   ],
   "source": [
    "user_table.primary_key"
   ]
  },
  {
   "cell_type": "code",
   "execution_count": 23,
   "id": "ed616775-d074-4e96-9a77-5a114d62c2b9",
   "metadata": {},
   "outputs": [],
   "source": [
    "from sqlalchemy import ForeignKey\n",
    "address_table = Table(\n",
    "    \"address\",\n",
    "    metadata_obj,\n",
    "    Column(\"id\", Integer, primary_key=True),\n",
    "    Column(\"user_id\", ForeignKey(\"user_account.id\"), nullable=False),\n",
    "    Column(\"email_address\", String, nullable=False),\n",
    ")"
   ]
  },
  {
   "cell_type": "code",
   "execution_count": 24,
   "id": "b934a215-d41d-45aa-a0b8-877bc3116956",
   "metadata": {},
   "outputs": [
    {
     "name": "stdout",
     "output_type": "stream",
     "text": [
      "2024-11-17 17:47:38,527 INFO sqlalchemy.engine.Engine BEGIN (implicit)\n",
      "2024-11-17 17:47:38,542 INFO sqlalchemy.engine.Engine PRAGMA main.table_info(\"user_account\")\n",
      "2024-11-17 17:47:38,551 INFO sqlalchemy.engine.Engine [raw sql] ()\n",
      "2024-11-17 17:47:38,551 INFO sqlalchemy.engine.Engine PRAGMA temp.table_info(\"user_account\")\n",
      "2024-11-17 17:47:38,558 INFO sqlalchemy.engine.Engine [raw sql] ()\n",
      "2024-11-17 17:47:38,558 INFO sqlalchemy.engine.Engine PRAGMA main.table_info(\"address\")\n",
      "2024-11-17 17:47:38,574 INFO sqlalchemy.engine.Engine [raw sql] ()\n",
      "2024-11-17 17:47:38,577 INFO sqlalchemy.engine.Engine PRAGMA temp.table_info(\"address\")\n",
      "2024-11-17 17:47:38,582 INFO sqlalchemy.engine.Engine [raw sql] ()\n",
      "2024-11-17 17:47:38,585 INFO sqlalchemy.engine.Engine \n",
      "CREATE TABLE user_account (\n",
      "\tid INTEGER NOT NULL, \n",
      "\tname VARCHAR(30), \n",
      "\tfullname VARCHAR, \n",
      "\tPRIMARY KEY (id)\n",
      ")\n",
      "\n",
      "\n",
      "2024-11-17 17:47:38,592 INFO sqlalchemy.engine.Engine [no key 0.00582s] ()\n",
      "2024-11-17 17:47:38,599 INFO sqlalchemy.engine.Engine \n",
      "CREATE TABLE address (\n",
      "\tid INTEGER NOT NULL, \n",
      "\tuser_id INTEGER NOT NULL, \n",
      "\temail_address VARCHAR NOT NULL, \n",
      "\tPRIMARY KEY (id), \n",
      "\tFOREIGN KEY(user_id) REFERENCES user_account (id)\n",
      ")\n",
      "\n",
      "\n",
      "2024-11-17 17:47:38,607 INFO sqlalchemy.engine.Engine [no key 0.00267s] ()\n",
      "2024-11-17 17:47:38,610 INFO sqlalchemy.engine.Engine COMMIT\n"
     ]
    }
   ],
   "source": [
    "metadata_obj.create_all(engine)"
   ]
  },
  {
   "cell_type": "code",
   "execution_count": 25,
   "id": "b97a0810-be60-4d44-8102-0d859b2781d7",
   "metadata": {},
   "outputs": [],
   "source": [
    "from sqlalchemy.orm import DeclarativeBase\n",
    "class Base(DeclarativeBase):\n",
    "    pass"
   ]
  },
  {
   "cell_type": "code",
   "execution_count": 26,
   "id": "9218e7db-a4c6-4abc-b4fb-752af221a5ed",
   "metadata": {},
   "outputs": [
    {
     "data": {
      "text/plain": [
       "MetaData()"
      ]
     },
     "execution_count": 26,
     "metadata": {},
     "output_type": "execute_result"
    }
   ],
   "source": [
    "Base.metadata"
   ]
  },
  {
   "cell_type": "code",
   "execution_count": 27,
   "id": "9dbc7fdd-b073-4d5b-ad45-c6f321ec4a39",
   "metadata": {},
   "outputs": [
    {
     "data": {
      "text/plain": [
       "<sqlalchemy.orm.decl_api.registry at 0x1c1ba7d26f0>"
      ]
     },
     "execution_count": 27,
     "metadata": {},
     "output_type": "execute_result"
    }
   ],
   "source": [
    "Base.registry"
   ]
  },
  {
   "cell_type": "code",
   "execution_count": 28,
   "id": "9a10661e-c973-4f75-a12a-08a154c3b5c9",
   "metadata": {},
   "outputs": [],
   "source": [
    "from typing import List\n",
    "from typing import Optional\n",
    "from sqlalchemy.orm import Mapped\n",
    "from sqlalchemy.orm import mapped_column\n",
    "from sqlalchemy.orm import relationship\n",
    "\n",
    "class User(Base):\n",
    "    __tablename__ = \"user_account\"\n",
    "    id: Mapped[int] = mapped_column(primary_key=True)\n",
    "    name: Mapped[str] = mapped_column(String(30))\n",
    "    fullname: Mapped[Optional[str]]\n",
    "    addresses: Mapped[List[\"Address\"]] = relationship(back_populates=\"user\")\n",
    "    def __repr__(self) -> str:\n",
    "        return f\"User(id={self.id!r}, name={self.name!r}, fullname={self.fullname!r})\"\n",
    "\n",
    "class Address(Base):\n",
    "    __tablename__ = \"address\"\n",
    "    id: Mapped[int] = mapped_column(primary_key=True)\n",
    "    email_address: Mapped[str]\n",
    "    user_id = mapped_column(ForeignKey(\"user_account.id\"))\n",
    "    user: Mapped[User] = relationship(back_populates=\"addresses\")\n",
    "    def __repr__(self) -> str:\n",
    "        return f\"Address(id={self.id!r}, email_address={self.email_address!r})\""
   ]
  },
  {
   "cell_type": "code",
   "execution_count": 29,
   "id": "ba6dee49-adde-4728-86a5-636e1d974da7",
   "metadata": {},
   "outputs": [
    {
     "name": "stdout",
     "output_type": "stream",
     "text": [
      "2024-11-17 17:58:34,598 INFO sqlalchemy.engine.Engine BEGIN (implicit)\n",
      "2024-11-17 17:58:34,607 INFO sqlalchemy.engine.Engine CREATE TABLE patient (PID int, FirstName text, LastName text, Gender text, Age int )\n",
      "2024-11-17 17:58:34,608 INFO sqlalchemy.engine.Engine [generated in 0.00512s] ()\n",
      "2024-11-17 17:58:34,612 INFO sqlalchemy.engine.Engine COMMIT\n"
     ]
    }
   ],
   "source": [
    "#Creating a table with some data from a SQL homework assignement from another class\n",
    "with engine.connect() as conn:\n",
    "    conn.execute(text(\"CREATE TABLE patient (PID int, FirstName text, LastName text, Gender text, Age int )\"))\n",
    "    conn.commit()"
   ]
  },
  {
   "cell_type": "code",
   "execution_count": 31,
   "id": "65c89346-bfd8-4a4b-9e9a-1aa7197206e8",
   "metadata": {},
   "outputs": [
    {
     "name": "stdout",
     "output_type": "stream",
     "text": [
      "2024-11-17 18:05:56,895 INFO sqlalchemy.engine.Engine BEGIN (implicit)\n",
      "2024-11-17 18:05:56,899 INFO sqlalchemy.engine.Engine INSERT INTO Patient (PID, FirstName, LastName, Gender, Age) VALUES (?, ?, ?, ?, ?)\n",
      "2024-11-17 18:05:56,902 INFO sqlalchemy.engine.Engine [generated in 0.00338s] [(1001, 'John', 'Porter', 'Male', 30), (1002, 'Jaehoon', 'Adams', 'Male', 15)]\n",
      "2024-11-17 18:05:56,905 INFO sqlalchemy.engine.Engine COMMIT\n"
     ]
    }
   ],
   "source": [
    "with engine.begin() as conn:\n",
    "    conn.execute(\n",
    "        text(\"INSERT INTO Patient (PID, FirstName, LastName, Gender, Age) VALUES (:PID, :FirstName, :LastName, :Gender, :Age)\"),\n",
    "        [{'PID': 1001, 'FirstName': 'John', 'LastName': 'Porter', 'Gender': 'Male' , 'Age': 30}, {'PID': 1002, 'FirstName': 'Jaehoon', 'LastName': 'Adams', 'Gender': 'Male' , 'Age': 15}],\n",
    "    )"
   ]
  },
  {
   "cell_type": "code",
   "execution_count": 33,
   "id": "d55deea0-1711-45a5-8ddb-f30b13aec84b",
   "metadata": {},
   "outputs": [
    {
     "name": "stdout",
     "output_type": "stream",
     "text": [
      "2024-11-17 18:08:46,884 INFO sqlalchemy.engine.Engine BEGIN (implicit)\n",
      "2024-11-17 18:08:46,884 INFO sqlalchemy.engine.Engine SELECT * FROM patient\n",
      "2024-11-17 18:08:46,895 INFO sqlalchemy.engine.Engine [cached since 8.917s ago] ()\n",
      "PID: 1001  Name: John Porter Gender:Male Age:30\n",
      "PID: 1002  Name: Jaehoon Adams Gender:Male Age:15\n",
      "2024-11-17 18:08:46,898 INFO sqlalchemy.engine.Engine ROLLBACK\n"
     ]
    }
   ],
   "source": [
    "#Printing the data from the table\n",
    "with engine.connect() as conn:\n",
    "    result = conn.execute(text(\"SELECT * FROM patient\"))\n",
    "    for row in result:\n",
    "        print(f\"PID: {row.PID}  Name: {row.FirstName} {row.LastName} Gender:{row.Gender} Age:{row.Age}\")"
   ]
  },
  {
   "cell_type": "code",
   "execution_count": 34,
   "id": "8b66ff72-185c-4dd8-929a-0daaeb867ebe",
   "metadata": {},
   "outputs": [
    {
     "name": "stdout",
     "output_type": "stream",
     "text": [
      "2024-11-17 18:09:58,904 INFO sqlalchemy.engine.Engine BEGIN (implicit)\n",
      "2024-11-17 18:09:58,909 INFO sqlalchemy.engine.Engine SELECT FirstName, LastName FROM patient\n",
      "2024-11-17 18:09:58,912 INFO sqlalchemy.engine.Engine [generated in 0.00538s] ()\n",
      "John Porter \n",
      "Jaehoon Adams \n",
      "2024-11-17 18:09:58,913 INFO sqlalchemy.engine.Engine ROLLBACK\n"
     ]
    }
   ],
   "source": [
    "#Selecting only two columns from the table\n",
    "with engine.connect() as conn:\n",
    "    result = conn.execute(text(\"SELECT FirstName, LastName FROM patient\"))\n",
    "    for row in result:\n",
    "        print(f\"{row.FirstName} {row.LastName} \")"
   ]
  }
 ],
 "metadata": {
  "kernelspec": {
   "display_name": "Python 3 (ipykernel)",
   "language": "python",
   "name": "python3"
  },
  "language_info": {
   "codemirror_mode": {
    "name": "ipython",
    "version": 3
   },
   "file_extension": ".py",
   "mimetype": "text/x-python",
   "name": "python",
   "nbconvert_exporter": "python",
   "pygments_lexer": "ipython3",
   "version": "3.12.4"
  }
 },
 "nbformat": 4,
 "nbformat_minor": 5
}
