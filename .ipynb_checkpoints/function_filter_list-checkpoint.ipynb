{
 "cells": [
  {
   "cell_type": "markdown",
   "id": "8590d09e-5b6f-4f87-858f-e16360a4e6fe",
   "metadata": {},
   "source": [
    "Write a python program that, given an input list, will filter the input above a user defined threshold. This is to be done with a standard function.\n",
    "That is, given a list [1,2,3,4,5,6,7,8,9], and an argument (6), it should return [1,2,3,4,5,6]"
   ]
  },
  {
   "cell_type": "code",
   "execution_count": 24,
   "id": "6861761b-0396-4abd-bc59-417d703da4a7",
   "metadata": {},
   "outputs": [
    {
     "data": {
      "text/plain": [
       "[1, 2, 3, 4, 5, 6]"
      ]
     },
     "execution_count": 24,
     "metadata": {},
     "output_type": "execute_result"
    }
   ],
   "source": [
    "def filter(a,b):\n",
    "    l = len(a)-1\n",
    "    while l>= 0:\n",
    "        if a[l] > b:\n",
    "            a.pop(l)\n",
    "            l-=1  \n",
    "        else:\n",
    "            l-=1\n",
    "    return a\n",
    "\n",
    "nums = [1,2,3,4,5,6,7,8,9]\n",
    "filter(nums,6)"
   ]
  },
  {
   "cell_type": "code",
   "execution_count": null,
   "id": "53bad1b6-b1f8-4ee2-a935-6708fe9872f9",
   "metadata": {},
   "outputs": [],
   "source": []
  }
 ],
 "metadata": {
  "kernelspec": {
   "display_name": "Python 3 (ipykernel)",
   "language": "python",
   "name": "python3"
  },
  "language_info": {
   "codemirror_mode": {
    "name": "ipython",
    "version": 3
   },
   "file_extension": ".py",
   "mimetype": "text/x-python",
   "name": "python",
   "nbconvert_exporter": "python",
   "pygments_lexer": "ipython3",
   "version": "3.12.4"
  }
 },
 "nbformat": 4,
 "nbformat_minor": 5
}
