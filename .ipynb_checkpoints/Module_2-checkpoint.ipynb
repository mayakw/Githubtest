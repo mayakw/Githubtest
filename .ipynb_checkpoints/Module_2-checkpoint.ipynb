{
 "cells": [
  {
   "cell_type": "markdown",
   "id": "8d0ab876-a9e1-4bcf-bd97-d3d6a479c906",
   "metadata": {},
   "source": [
    "Question 7"
   ]
  },
  {
   "cell_type": "code",
   "execution_count": 2,
   "id": "49d4d3e4-833f-4f2e-a3cb-ddb34ae863fb",
   "metadata": {},
   "outputs": [
    {
     "name": "stdout",
     "output_type": "stream",
     "text": [
      "<class 'int'>\n"
     ]
    }
   ],
   "source": [
    "#Defining the variable 'Medication'\n",
    "Medication = 5\n",
    "#Printing the data type of 'Medication'\n",
    "print (type(Medication))"
   ]
  },
  {
   "cell_type": "markdown",
   "id": "9610452f-9e3a-48ca-9b9b-5cf11aefb0c9",
   "metadata": {},
   "source": [
    "Question 8"
   ]
  },
  {
   "cell_type": "code",
   "execution_count": 3,
   "id": "5b28fbd4-c346-443c-bd10-95665631eb90",
   "metadata": {},
   "outputs": [
    {
     "name": "stdout",
     "output_type": "stream",
     "text": [
      "24.034609838166958\n"
     ]
    }
   ],
   "source": [
    "#Assigning variables\n",
    "wt = 60.0\n",
    "ht = 1.58\n",
    "#calculating BMI\n",
    "bmi = wt / (ht**2)\n",
    "print (bmi)"
   ]
  },
  {
   "cell_type": "markdown",
   "id": "5f61c9d1-3266-4120-98ce-e223272cf329",
   "metadata": {},
   "source": [
    "Question 11"
   ]
  },
  {
   "cell_type": "code",
   "execution_count": 14,
   "id": "6d444770-590b-4400-8c7b-222ecf2dcc0e",
   "metadata": {},
   "outputs": [
    {
     "name": "stdout",
     "output_type": "stream",
     "text": [
      "2\n"
     ]
    }
   ],
   "source": [
    "#Booleans\n",
    "#boolean True + boolean True - boolean False = ?\n",
    "x=True+True-False\n",
    "print(x)\n",
    "\n"
   ]
  },
  {
   "cell_type": "code",
   "execution_count": 4,
   "id": "f1a31a7a-cbc1-4a43-ab67-30f67b560a32",
   "metadata": {},
   "outputs": [
    {
     "name": "stdout",
     "output_type": "stream",
     "text": [
      "True\n"
     ]
    }
   ],
   "source": [
    "#Booleans 2\n",
    "logical_tracker = True\n",
    "logical_tracker = logical_tracker and logical_tracker\n",
    "logical_tracker = logical_tracker or (logical_tracker-logical_tracker)\n",
    "print (logical_tracker)"
   ]
  },
  {
   "cell_type": "code",
   "execution_count": 13,
   "id": "4fd8d6b7-40c7-445e-96d2-d8f3d9894930",
   "metadata": {},
   "outputs": [
    {
     "name": "stdout",
     "output_type": "stream",
     "text": [
      " \n"
     ]
    }
   ],
   "source": [
    "#Strings\n",
    "#string = \"E. Coli\"\n",
    "#string[2]=\n",
    "string = \"E. Coli\"\n",
    "print (string[2])"
   ]
  },
  {
   "cell_type": "code",
   "execution_count": 12,
   "id": "f0845455-9e81-4620-b91f-031abcf4b508",
   "metadata": {},
   "outputs": [
    {
     "ename": "TypeError",
     "evalue": "'str' object does not support item assignment",
     "output_type": "error",
     "traceback": [
      "\u001b[1;31m---------------------------------------------------------------------------\u001b[0m",
      "\u001b[1;31mTypeError\u001b[0m                                 Traceback (most recent call last)",
      "Cell \u001b[1;32mIn[12], line 12\u001b[0m\n\u001b[0;32m      2\u001b[0m \u001b[38;5;124;03m'''\u001b[39;00m\n\u001b[0;32m      3\u001b[0m \u001b[38;5;124;03mOh no! My string has a typo!\u001b[39;00m\n\u001b[0;32m      4\u001b[0m \n\u001b[1;32m   (...)\u001b[0m\n\u001b[0;32m      9\u001b[0m \u001b[38;5;124;03mstring[2]=\"L\"\u001b[39;00m\n\u001b[0;32m     10\u001b[0m \u001b[38;5;124;03m'''\u001b[39;00m\n\u001b[0;32m     11\u001b[0m string \u001b[38;5;241m=\u001b[39m \u001b[38;5;124m\"\u001b[39m\u001b[38;5;124mI Bove python\u001b[39m\u001b[38;5;124m\"\u001b[39m\n\u001b[1;32m---> 12\u001b[0m string[\u001b[38;5;241m2\u001b[39m] \u001b[38;5;241m=\u001b[39m \u001b[38;5;124m\"\u001b[39m\u001b[38;5;124mL\u001b[39m\u001b[38;5;124m\"\u001b[39m\n",
      "\u001b[1;31mTypeError\u001b[0m: 'str' object does not support item assignment"
     ]
    }
   ],
   "source": [
    "#Strings 2\n",
    "'''\n",
    "Oh no! My string has a typo!\n",
    "\n",
    "string = \"I Bove python\"\n",
    "\n",
    "No worries though. I'll just fix that.\n",
    "\n",
    "string[2]=\"L\"\n",
    "'''\n",
    "string = \"I Bove python\"\n",
    "string[2] = \"L\"\n",
    "#This does not work because you can't change a string, you would need to assign it a new variable"
   ]
  },
  {
   "cell_type": "code",
   "execution_count": 10,
   "id": "adb0ab63-2403-42af-9c9b-6c6453e77e04",
   "metadata": {},
   "outputs": [
    {
     "name": "stdout",
     "output_type": "stream",
     "text": [
      "3\n",
      "12\n"
     ]
    }
   ],
   "source": [
    "#Operators 2\n",
    "#Explain how the \"+\", addition operation works differently for integers and strings.\n",
    "\n",
    "#For integers the \"+\" operator sums the two values together. \n",
    "print(1+2)\n",
    "#For strings the \"+\" operator concatenates the values, sticking them together one after the other.\n",
    "print ('1'+'2')"
   ]
  },
  {
   "cell_type": "code",
   "execution_count": 9,
   "id": "29a57189-f335-4f41-8e7a-fe29f5b20b47",
   "metadata": {},
   "outputs": [
    {
     "name": "stdout",
     "output_type": "stream",
     "text": [
      "73\n"
     ]
    }
   ],
   "source": [
    "#String 3\n",
    "#Type the output if the strings \"7\" and \"3\" are added.\n",
    "\n",
    "print ('7'+'3')"
   ]
  }
 ],
 "metadata": {
  "kernelspec": {
   "display_name": "Python 3 (ipykernel)",
   "language": "python",
   "name": "python3"
  },
  "language_info": {
   "codemirror_mode": {
    "name": "ipython",
    "version": 3
   },
   "file_extension": ".py",
   "mimetype": "text/x-python",
   "name": "python",
   "nbconvert_exporter": "python",
   "pygments_lexer": "ipython3",
   "version": "3.12.4"
  }
 },
 "nbformat": 4,
 "nbformat_minor": 5
}
