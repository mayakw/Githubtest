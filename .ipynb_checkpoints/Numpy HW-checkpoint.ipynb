{
 "cells": [
  {
   "cell_type": "code",
   "execution_count": 6,
   "id": "2feaf6bf-2f0e-4399-a2c5-adf9913ab79f",
   "metadata": {},
   "outputs": [
    {
     "name": "stdout",
     "output_type": "stream",
     "text": [
      "Requirement already satisfied: numpy in c:\\users\\mayak\\anaconda3\\lib\\site-packages (1.26.4)\n"
     ]
    }
   ],
   "source": [
    "!pip install numpy"
   ]
  },
  {
   "cell_type": "code",
   "execution_count": 4,
   "id": "2637606b-876d-44dc-8ff9-e8d3a9274a74",
   "metadata": {},
   "outputs": [],
   "source": [
    "import numpy as np"
   ]
  },
  {
   "cell_type": "code",
   "execution_count": 7,
   "id": "91e1ed76-728a-496b-a0d6-5a3687cc7cf0",
   "metadata": {},
   "outputs": [
    {
     "name": "stdout",
     "output_type": "stream",
     "text": [
      "1.26.4\n"
     ]
    }
   ],
   "source": [
    "#1 printing the numpy version number\n",
    "print(np.__version__)"
   ]
  },
  {
   "cell_type": "code",
   "execution_count": 11,
   "id": "e22510a3-ef09-469d-8ead-066a1bd9361d",
   "metadata": {},
   "outputs": [
    {
     "name": "stdout",
     "output_type": "stream",
     "text": [
      "array [0 1 2 3 4 5 6 7 8 9]\n"
     ]
    }
   ],
   "source": [
    "#2 creating an aray and printing it with the desired output\n",
    "array = np.array([0,1,2,3,4,5,6,7,8,9])\n",
    "print (f'array {array}')"
   ]
  },
  {
   "cell_type": "code",
   "execution_count": 12,
   "id": "d9613165-6896-41c5-a59c-3623b8a9c0e5",
   "metadata": {},
   "outputs": [],
   "source": [
    "import pandas as pd"
   ]
  },
  {
   "cell_type": "code",
   "execution_count": 22,
   "id": "59b3c378-a067-44a3-8454-5ea9d8919127",
   "metadata": {},
   "outputs": [
    {
     "name": "stdout",
     "output_type": "stream",
     "text": [
      "     0    1    2    3            4\n",
      "0  5.1  3.5  1.4  0.2  Iris-setosa\n",
      "1  4.9  3.0  1.4  0.2  Iris-setosa\n",
      "2  4.7  3.2  1.3  0.2  Iris-setosa\n",
      "3  4.6  3.1  1.5  0.2  Iris-setosa\n",
      "4  5.0  3.6  1.4  0.2  Iris-setosa\n"
     ]
    }
   ],
   "source": [
    "#3 importing the data set and checking to make sure it looks good\n",
    "url =  'https://archive.ics.uci.edu/ml/machine-learning-databases/iris/iris.data'\n",
    "iris = pd.read_csv(url, header = None)\n",
    "print (iris.head())"
   ]
  },
  {
   "cell_type": "code",
   "execution_count": 27,
   "id": "44e8d561-e779-44a0-a92d-90a4c7fa33c9",
   "metadata": {},
   "outputs": [],
   "source": [
    "#renaming the columns because I was getting confused\n",
    "iris.rename(columns={0: 'col0', 1: 'col1',2:'col2',3:'col3',4:'col4'}, inplace=True)"
   ]
  },
  {
   "cell_type": "code",
   "execution_count": 28,
   "id": "08d84a90-2b39-41b8-8a86-2a407f976262",
   "metadata": {},
   "outputs": [
    {
     "name": "stdout",
     "output_type": "stream",
     "text": [
      "   col0  col1  col2  col3         col4\n",
      "0   5.1   3.5   1.4   0.2  Iris-setosa\n",
      "1   4.9   3.0   1.4   0.2  Iris-setosa\n",
      "2   4.7   3.2   1.3   0.2  Iris-setosa\n",
      "3   4.6   3.1   1.5   0.2  Iris-setosa\n",
      "4   5.0   3.6   1.4   0.2  Iris-setosa\n"
     ]
    }
   ],
   "source": [
    "#checking to make sure it all looks good\n",
    "print (iris.head())"
   ]
  },
  {
   "cell_type": "code",
   "execution_count": 29,
   "id": "84d795ef-a4a7-4226-868c-a90c8ad74c0d",
   "metadata": {},
   "outputs": [
    {
     "data": {
      "text/plain": [
       "50"
      ]
     },
     "execution_count": 29,
     "metadata": {},
     "output_type": "execute_result"
    }
   ],
   "source": [
    "#4 searching for the first row with a value in col3 that is greater than 1\n",
    "iris[iris.col3 > 1].index[0]"
   ]
  },
  {
   "cell_type": "code",
   "execution_count": 38,
   "id": "eab83829-09be-4505-8469-057e36d4c4e4",
   "metadata": {},
   "outputs": [
    {
     "name": "stdout",
     "output_type": "stream",
     "text": [
      "[27.62684215 14.64009987 21.80136195 42.39403048  1.23122395  6.95688692\n",
      " 33.86670515 41.466785    7.69862289 29.17957314 44.67477576 11.25090398\n",
      " 10.08108276  6.31046763 11.76517714 48.95256545 40.77247431  9.42510962\n",
      " 40.99501269 14.42961361]\n"
     ]
    }
   ],
   "source": [
    "#5 creating array a, and printing it to see what it looks like\n",
    "np.random.seed(100) \n",
    "a = np.random.uniform(1,50, 20)\n",
    "print (a)"
   ]
  },
  {
   "cell_type": "code",
   "execution_count": 40,
   "id": "329e9b4c-2135-40af-9cf3-5539246e6bfc",
   "metadata": {},
   "outputs": [
    {
     "name": "stdout",
     "output_type": "stream",
     "text": [
      "[27.62684215 14.64009987 21.80136195 30.         10.         10.\n",
      " 30.         30.         10.         29.17957314 30.         11.25090398\n",
      " 10.08108276 10.         11.76517714 30.         30.         10.\n",
      " 30.         14.42961361]\n"
     ]
    }
   ],
   "source": [
    "#replacing values in array a greater than 30 with 30 and values less than 10 with 10\n",
    "a[a>30]= 30\n",
    "a[a<10]= 10\n",
    "print (a)"
   ]
  },
  {
   "cell_type": "code",
   "execution_count": null,
   "id": "ef271a65-7513-49c5-b911-9e8ea708731b",
   "metadata": {},
   "outputs": [],
   "source": []
  }
 ],
 "metadata": {
  "kernelspec": {
   "display_name": "Python 3 (ipykernel)",
   "language": "python",
   "name": "python3"
  },
  "language_info": {
   "codemirror_mode": {
    "name": "ipython",
    "version": 3
   },
   "file_extension": ".py",
   "mimetype": "text/x-python",
   "name": "python",
   "nbconvert_exporter": "python",
   "pygments_lexer": "ipython3",
   "version": "3.12.4"
  }
 },
 "nbformat": 4,
 "nbformat_minor": 5
}
