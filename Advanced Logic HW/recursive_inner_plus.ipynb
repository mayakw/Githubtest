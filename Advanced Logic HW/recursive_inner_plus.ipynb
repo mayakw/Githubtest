{
 "cells": [
  {
   "cell_type": "code",
   "execution_count": 87,
   "id": "dc54d895-0e8d-408f-a6d3-c0cf30c4efee",
   "metadata": {},
   "outputs": [
    {
     "data": {
      "text/plain": [
       "[8, 9]"
      ]
     },
     "execution_count": 87,
     "metadata": {},
     "output_type": "execute_result"
    }
   ],
   "source": [
    "def flatten(lista):\n",
    "    l = len(lista)-1 #creating variables for later\n",
    "    listlist = []\n",
    "    global answer\n",
    "    while l>= 0:                    #starting at the end of the list so the index values of the list don't change as items are deleted\n",
    "        if type(lista[l]) == int:   # 'cleaning' the list by deleting items from the list that are integers\n",
    "            lista.pop(l)\n",
    "            l-=1  \n",
    "        else:\n",
    "            l-=1\n",
    "    for item in lista:             #creating a new list that flattens the cleaned up list\n",
    "        for item2 in item:\n",
    "            listlist.append(item2)\n",
    "    if all(isinstance(item3,int) for item3 in listlist):  #check if there are any remaining lists in the flattened version\n",
    "        answer = listlist                                 # if there are no more lists, we have the deepest list\n",
    "    else:                                                 # if there are still lists, repeat the process\n",
    "        flatten (listlist)\n",
    "    return [y + 1 for y in answer]                        #once we have found the deepest list, add 1 to all the items and return\n",
    "\n",
    "nums2 = [1,2,[3,4],5,6,[[7,8],9,10]]\n",
    "flatten(nums2)\n",
    "    "
   ]
  },
  {
   "cell_type": "code",
   "execution_count": null,
   "id": "ec62039c-ca9d-4737-9b18-fe73d1926527",
   "metadata": {},
   "outputs": [],
   "source": []
  }
 ],
 "metadata": {
  "kernelspec": {
   "display_name": "Python 3 (ipykernel)",
   "language": "python",
   "name": "python3"
  },
  "language_info": {
   "codemirror_mode": {
    "name": "ipython",
    "version": 3
   },
   "file_extension": ".py",
   "mimetype": "text/x-python",
   "name": "python",
   "nbconvert_exporter": "python",
   "pygments_lexer": "ipython3",
   "version": "3.12.4"
  }
 },
 "nbformat": 4,
 "nbformat_minor": 5
}
