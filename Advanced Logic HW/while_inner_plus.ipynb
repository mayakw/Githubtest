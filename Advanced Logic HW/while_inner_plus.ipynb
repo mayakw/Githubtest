{
 "cells": [
  {
   "cell_type": "markdown",
   "id": "43787823-e70e-436a-a074-4769170f8ca4",
   "metadata": {},
   "source": [
    "Write a python program that, given an input list of any level of complexity/nestedness, will return the inner most list plus 1. This is to be done with a while loop. Note: the input will contain only integers or lists. \n",
    "As an example:\n",
    "\n",
    "input_list = [1,2,3,4,[5,6,7,[8,9]]]\n",
    "\n",
    "your_py_program.py input_list\n",
    "\n",
    "will produce:\n",
    "\n",
    "[9,10]\n",
    "\n",
    "That is [8, 9] (the inner most list) plus 1 -> [9, 10]"
   ]
  },
  {
   "cell_type": "code",
   "execution_count": null,
   "id": "ab94c10a-0994-4460-b8b2-8598c6675004",
   "metadata": {},
   "outputs": [],
   "source": [
    "nums = [1,2,[3,4],5,6,[[7,8],9,10]]\n"
   ]
  }
 ],
 "metadata": {
  "kernelspec": {
   "display_name": "Python 3 (ipykernel)",
   "language": "python",
   "name": "python3"
  },
  "language_info": {
   "codemirror_mode": {
    "name": "ipython",
    "version": 3
   },
   "file_extension": ".py",
   "mimetype": "text/x-python",
   "name": "python",
   "nbconvert_exporter": "python",
   "pygments_lexer": "ipython3",
   "version": "3.12.4"
  }
 },
 "nbformat": 4,
 "nbformat_minor": 5
}
