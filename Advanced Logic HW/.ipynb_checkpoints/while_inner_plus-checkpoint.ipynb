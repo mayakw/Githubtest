{
 "cells": [
  {
   "cell_type": "markdown",
   "id": "43787823-e70e-436a-a074-4769170f8ca4",
   "metadata": {},
   "source": [
    "Write a python program that, given an input list of any level of complexity/nestedness, will return the inner most list plus 1. This is to be done with a while loop. Note: the input will contain only integers or lists. \n",
    "As an example:\n",
    "\n",
    "input_list = [1,2,3,4,[5,6,7,[8,9]]]\n",
    "\n",
    "your_py_program.py input_list\n",
    "\n",
    "will produce:\n",
    "\n",
    "[9,10]\n",
    "\n",
    "That is [8, 9] (the inner most list) plus 1 -> [9, 10]"
   ]
  },
  {
   "cell_type": "code",
   "execution_count": null,
   "id": "ab94c10a-0994-4460-b8b2-8598c6675004",
   "metadata": {},
   "outputs": [],
   "source": [
    "nums = [1,2,[3,4],5,6,[[7,8],9,10]]\n"
   ]
  },
  {
   "cell_type": "code",
   "execution_count": 14,
   "id": "04761611-f87d-49cd-b58b-a9a350da99c1",
   "metadata": {},
   "outputs": [
    {
     "name": "stdout",
     "output_type": "stream",
     "text": [
      "[8, 9]\n"
     ]
    }
   ],
   "source": [
    "nums2 = [1,2,[3,4],5,6,[[7,8],9,10]]\n",
    "repeat = 1\n",
    "while repeat == 1:\n",
    "    l = len(nums2)-1 #creating variables for later\n",
    "    listlist = []\n",
    "    global answer\n",
    "    while l>= 0:                    #starting at the end of the list so the index values of the list don't change as items are deleted\n",
    "        if type(nums2[l]) == int:   # 'cleaning' the list by deleting items from the list that are integers\n",
    "            nums2.pop(l)\n",
    "            l-=1  \n",
    "        else:\n",
    "            l-=1\n",
    "    for item in nums2:             #creating a new list that flattens the cleaned up list\n",
    "        for item2 in item:\n",
    "            listlist.append(item2)\n",
    "    if all(isinstance(item3,int) for item3 in listlist):  #check if there are any remaining lists in the flattened version\n",
    "        answer = [y + 1 for y in listlist]                # if there are no more lists, we have the deepest list\n",
    "        repeat = 0                                        #set repeat to zero to break while loop\n",
    "        print (answer)\n",
    "    else:                                                 # if there are still lists, set new list to starting variable to repeat the process\n",
    "        nums2 = listlist\n",
    "        "
   ]
  },
  {
   "cell_type": "code",
   "execution_count": null,
   "id": "b1d92c49-0cf8-4285-b006-5c599322eb4a",
   "metadata": {},
   "outputs": [],
   "source": []
  }
 ],
 "metadata": {
  "kernelspec": {
   "display_name": "Python 3 (ipykernel)",
   "language": "python",
   "name": "python3"
  },
  "language_info": {
   "codemirror_mode": {
    "name": "ipython",
    "version": 3
   },
   "file_extension": ".py",
   "mimetype": "text/x-python",
   "name": "python",
   "nbconvert_exporter": "python",
   "pygments_lexer": "ipython3",
   "version": "3.12.4"
  }
 },
 "nbformat": 4,
 "nbformat_minor": 5
}
