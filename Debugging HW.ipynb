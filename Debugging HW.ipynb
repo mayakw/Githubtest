{
 "cells": [
  {
   "cell_type": "code",
   "execution_count": 9,
   "id": "d2faa170-14c2-4e49-9af2-f20f8b233ae1",
   "metadata": {},
   "outputs": [
    {
     "name": "stdout",
     "output_type": "stream",
     "text": [
      "6\n",
      "we are making an error in the for loop, the correct value of arg_2_sum should be 1 + 1\n",
      "6\n",
      "we are making an error in the for loop, the correct value of arg_2_sum should be 1 + 1\n",
      "6\n",
      "we are making an error in the for loop, the correct value of arg_2_sum should be 1 + 1\n",
      "9\n",
      "we are making an error in the for loop, the correct value of arg_2_sum should be 2 + 1\n",
      "9\n",
      "we are making an error in the for loop, the correct value of arg_2_sum should be 2 + 1\n",
      "9\n",
      "we are making an error in the for loop, the correct value of arg_2_sum should be 2 + 1\n",
      "12\n",
      "we are making an error in the for loop, the correct value of arg_2_sum should be 3 + 1\n",
      "12\n",
      "we are making an error in the for loop, the correct value of arg_2_sum should be 3 + 1\n",
      "12\n",
      "we are making an error in the for loop, the correct value of arg_2_sum should be 3 + 1\n"
     ]
    },
    {
     "data": {
      "text/plain": [
       "[6, 9, 12]"
      ]
     },
     "execution_count": 9,
     "metadata": {},
     "output_type": "execute_result"
    }
   ],
   "source": [
    "#1a\n",
    "def wrong_add_function(arg1,arg2):\n",
    "   '''\n",
    "   The function takes in two lists of integers, then it adds\n",
    "   all of arg2 to each item of arg1.\n",
    "   \n",
    "   Example:\n",
    "      > wrong_add_function([1,2,3],[1,1,1])\n",
    "      > [6,9,12]\n",
    "\n",
    "   whereas the expected correct answer is, [2,3,4]\n",
    "\n",
    "   Parameters\n",
    "   ----------\n",
    "   arg1 : list\n",
    "      list of integers.\n",
    "   arg2 : list\n",
    "      list of integers.\n",
    "\n",
    "   Returns\n",
    "   -------\n",
    "   arg1 : list\n",
    "      Elements of arg1, with each element having had the contents of \n",
    "      arg2 added to it.\n",
    "\n",
    "   '''\n",
    "   arg1_index=0\n",
    "   while arg1_index < len(arg1):\n",
    "      arg_2_sum = 0\n",
    "      for arg2_elements in arg2:\n",
    "          arg_2_sum = sum([arg1[arg1_index]+i for i in arg2])\n",
    "          print (arg_2_sum)\n",
    "          print (f\"we are making an error in the for loop, the correct value of arg_2_sum should be {arg1[arg1_index]} + 1\")\n",
    "      arg1[arg1_index]=arg_2_sum  \n",
    "      arg1_index+=1\n",
    "   return arg1\n",
    "\n",
    "arg1 = [1,2,3]\n",
    "arg2 = [1,1,1]\n",
    "\n",
    "wrong_add_function(arg1, arg2)"
   ]
  },
  {
   "cell_type": "code",
   "execution_count": 8,
   "id": "93150145-9e66-48d7-b9b7-bd12d770d7c6",
   "metadata": {},
   "outputs": [
    {
     "data": {
      "text/plain": [
       "[2, 3, 4]"
      ]
     },
     "execution_count": 8,
     "metadata": {},
     "output_type": "execute_result"
    }
   ],
   "source": [
    "#1b\n",
    "def correct_add_function(arg1,arg2):\n",
    "    arg1_index=0\n",
    "    while arg1_index < len(arg1):\n",
    "        arg_2_sum = 0\n",
    "        for arg2_elements in arg2:\n",
    "            arg_2_sum =arg1[arg1_index]+arg2_elements\n",
    "        arg1[arg1_index]=arg_2_sum  \n",
    "        arg1_index+=1\n",
    "    return arg1\n",
    "\n",
    "arg1 = [1,2,3]\n",
    "arg2 = [1,1,1]\n",
    "\n",
    "correct_add_function(arg1, arg2)"
   ]
  },
  {
   "cell_type": "code",
   "execution_count": 17,
   "id": "c6d3913e-fd0b-4b45-b535-854a8f874819",
   "metadata": {},
   "outputs": [
    {
     "name": "stdout",
     "output_type": "stream",
     "text": [
      "Your input argument 1 at element 2 is not of the expected type. Please change this and rerun.\n"
     ]
    }
   ],
   "source": [
    "#2b\n",
    "def exception_add_function(arg1,arg2):\n",
    "    try:# this try section checks to make sure all the items in each argument are of the same type, and keeps track of which position in which argument it is in. If an item is not the same type, it triggers the except\n",
    "        argument = 1\n",
    "        argindex = 0\n",
    "        for item in arg1:\n",
    "            if type(item) == type(arg1[0]):\n",
    "                argindex += 1\n",
    "            else:\n",
    "                raise\n",
    "        argument += 1\n",
    "        argindex = 0\n",
    "        for item in arg2:\n",
    "            if type(item) == type(arg2[0]):\n",
    "                argindex += 1\n",
    "            else:\n",
    "                vavr = bad_badvar\n",
    "    except:#this except prints a statement that says where the incorrect input is\n",
    "        print (f\"Your input argument {argument} at element {argindex} is not of the expected type. Please change this and rerun.\")\n",
    "\n",
    "   #numeric section\n",
    "    if sum([type(i)==int for i in arg1])==len(arg1) and sum([type(i)==int for i in arg2])==len(arg2):\n",
    "        arg1_index=0\n",
    "        while arg1_index < len(arg1):\n",
    "            arg_2_sum = 0\n",
    "            for arg2_elements in arg2:\n",
    "                arg_2_sum =arg1[arg1_index]+arg2_elements #2a changing the code to include the edit I made in 1b\n",
    "            arg1[arg1_index]=arg_2_sum\n",
    "            arg1_index+=1\n",
    "        return arg1\n",
    "     #string section\n",
    "    elif sum([type(i)==str for i in arg1])==len(arg1) and sum([type(i)==str for i in arg2])==len(arg2):\n",
    "        arg1_index=0\n",
    "        while arg1_index < len(arg1):\n",
    "            arg_2_sum = ''\n",
    "            for arg2_elements in arg2:\n",
    "               arg_2_sum += arg2_elements\n",
    "            arg1[arg1_index]=arg1[arg1_index]+str(arg_2_sum)\n",
    "            arg1_index+=1\n",
    "        return arg1\n",
    "\n",
    "arg_str_1=['1','2',3]\n",
    "arg_str_2=['1','1','1']\n",
    "\n",
    "exception_add_function(arg_str_1,arg_str_2)"
   ]
  },
  {
   "cell_type": "code",
   "execution_count": 16,
   "id": "3a20b14e-a429-4c54-9a97-d60fc2f37901",
   "metadata": {},
   "outputs": [
    {
     "data": {
      "text/plain": [
       "['1111', '2111', '3111']"
      ]
     },
     "execution_count": 16,
     "metadata": {},
     "output_type": "execute_result"
    }
   ],
   "source": [
    "#2c\n",
    "def correct_add_function(arg1,arg2):\n",
    "    try:#same try section as before\n",
    "        argument = 1\n",
    "        argindex = 0\n",
    "        for item in arg1:\n",
    "            if type(item) == type(arg1[0]):\n",
    "                argindex += 1\n",
    "            else:\n",
    "                raise\n",
    "        argument += 1\n",
    "        argindex = 0\n",
    "        for item in arg2:\n",
    "            if type(item) == type(arg2[0]):\n",
    "                argindex += 1\n",
    "            else:\n",
    "                vavr = bad_badvar\n",
    "    except: #this except turns the arguments to strings so that they will run through the string section of the code\n",
    "        errorindex = 0\n",
    "        for item in arg1:\n",
    "            arg1[errorindex] = str(item)\n",
    "            errorindex += 1\n",
    "        errorindex = 0\n",
    "        for item in arg2:\n",
    "            arg2[errorindex] = str(item)\n",
    "            errorindex += 1\n",
    "   \n",
    "    #numeric section\n",
    "    if sum([type(i)==int for i in arg1])==len(arg1) and sum([type(i)==int for i in arg2])==len(arg2):\n",
    "        arg1_index=0\n",
    "        while arg1_index < len(arg1):\n",
    "            arg_2_sum = 0\n",
    "            for arg2_elements in arg2:\n",
    "                arg_2_sum =arg1[arg1_index]+arg2_elements #2a changing the code to include the edit I made in 1b\n",
    "            arg1[arg1_index]=arg_2_sum  \n",
    "            arg1_index+=1\n",
    "        return arg1\n",
    "   #string section\n",
    "    elif sum([type(i)==str for i in arg1])==len(arg1) and sum([type(i)==str for i in arg2])==len(arg2):\n",
    "        arg1_index=0\n",
    "        while arg1_index < len(arg1):\n",
    "            arg_2_sum = ''\n",
    "            for arg2_elements in arg2:\n",
    "                arg_2_sum += arg2_elements\n",
    "            arg1[arg1_index]=arg1[arg1_index]+str(arg_2_sum)\n",
    "            arg1_index+=1\n",
    "        return arg1\n",
    "arg_str_1=[1,2,'3']\n",
    "arg_str_2=[1,1,1]\n",
    "\n",
    "correct_add_function(arg_str_1,arg_str_2)"
   ]
  },
  {
   "cell_type": "code",
   "execution_count": null,
   "id": "f0e0da38-7e7a-4d2e-b175-eb31e3e6eefe",
   "metadata": {},
   "outputs": [],
   "source": []
  }
 ],
 "metadata": {
  "kernelspec": {
   "display_name": "Python 3 (ipykernel)",
   "language": "python",
   "name": "python3"
  },
  "language_info": {
   "codemirror_mode": {
    "name": "ipython",
    "version": 3
   },
   "file_extension": ".py",
   "mimetype": "text/x-python",
   "name": "python",
   "nbconvert_exporter": "python",
   "pygments_lexer": "ipython3",
   "version": "3.12.4"
  }
 },
 "nbformat": 4,
 "nbformat_minor": 5
}
