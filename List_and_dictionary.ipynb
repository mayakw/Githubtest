{
 "cells": [
  {
   "cell_type": "markdown",
   "id": "55bae455",
   "metadata": {},
   "source": [
    "# Lists"
   ]
  },
  {
   "cell_type": "markdown",
   "id": "f612cb92",
   "metadata": {},
   "source": [
    "- Lists are ordered sequences that can hold a variety of object types. \n",
    "- Lists use squared brackets and commas seperate objects in the list. eg: [1,2,3,4,5]\n",
    "- Lists support indexing and slicing, they can be nested. "
   ]
  },
  {
   "cell_type": "code",
   "execution_count": 20,
   "id": "37754038",
   "metadata": {},
   "outputs": [],
   "source": [
    "my_list = ['String', 10, 20.4] #list can hold strings, integers, floats"
   ]
  },
  {
   "cell_type": "markdown",
   "id": "3fc0778a",
   "metadata": {},
   "source": [
    "- We can carry out indexing on lists"
   ]
  },
  {
   "cell_type": "code",
   "execution_count": 21,
   "id": "de73269f",
   "metadata": {},
   "outputs": [
    {
     "data": {
      "text/plain": [
       "'String'"
      ]
     },
     "execution_count": 21,
     "metadata": {},
     "output_type": "execute_result"
    }
   ],
   "source": [
    "my_list[0] #select the first element"
   ]
  },
  {
   "cell_type": "code",
   "execution_count": 22,
   "id": "3745bf7f",
   "metadata": {},
   "outputs": [
    {
     "data": {
      "text/plain": [
       "[10, 20.4]"
      ]
     },
     "execution_count": 22,
     "metadata": {},
     "output_type": "execute_result"
    }
   ],
   "source": [
    "my_list[1:] #selecting all the elements after fist one "
   ]
  },
  {
   "cell_type": "markdown",
   "id": "773ec5c1",
   "metadata": {},
   "source": [
    "- We can also replace the elements in the list by indexing"
   ]
  },
  {
   "cell_type": "code",
   "execution_count": 23,
   "id": "3c5d8605",
   "metadata": {},
   "outputs": [
    {
     "data": {
      "text/plain": [
       "['String', 10, 't']"
      ]
     },
     "execution_count": 23,
     "metadata": {},
     "output_type": "execute_result"
    }
   ],
   "source": [
    "my_list[2] = \"t\" #replace 2nd element with a 't'\n",
    "my_list"
   ]
  },
  {
   "cell_type": "markdown",
   "id": "1b15e4a4",
   "metadata": {},
   "source": [
    "- We can insert new elements to a specific location unlike tuples"
   ]
  },
  {
   "cell_type": "code",
   "execution_count": 24,
   "id": "268a44f0",
   "metadata": {},
   "outputs": [
    {
     "data": {
      "text/plain": [
       "['String', 10, 'g', 't']"
      ]
     },
     "execution_count": 24,
     "metadata": {},
     "output_type": "execute_result"
    }
   ],
   "source": [
    "my_list.insert(2, \"g\") #insert 'g' in the second position\n",
    "my_list"
   ]
  },
  {
   "cell_type": "markdown",
   "id": "a20339a3",
   "metadata": {},
   "source": [
    "- We can also use append to add elements to the list "
   ]
  },
  {
   "cell_type": "code",
   "execution_count": 26,
   "id": "f888c9f8",
   "metadata": {},
   "outputs": [
    {
     "data": {
      "text/plain": [
       "['String', 10, 't', 'g']"
      ]
     },
     "execution_count": 26,
     "metadata": {},
     "output_type": "execute_result"
    }
   ],
   "source": [
    "my_list.append('g')\n",
    "my_list"
   ]
  },
  {
   "cell_type": "markdown",
   "id": "abf46a31",
   "metadata": {},
   "source": [
    "- Remove elements from the list"
   ]
  },
  {
   "cell_type": "code",
   "execution_count": 27,
   "id": "3f50735d",
   "metadata": {},
   "outputs": [
    {
     "data": {
      "text/plain": [
       "['String', 10, 't']"
      ]
     },
     "execution_count": 27,
     "metadata": {},
     "output_type": "execute_result"
    }
   ],
   "source": [
    "my_list.remove('g') #remove 'g' from the list\n",
    "my_list"
   ]
  },
  {
   "cell_type": "markdown",
   "id": "f6e26554",
   "metadata": {},
   "source": [
    "- We can add two lists using extend() method"
   ]
  },
  {
   "cell_type": "code",
   "execution_count": 29,
   "id": "e763c34a",
   "metadata": {},
   "outputs": [
    {
     "data": {
      "text/plain": [
       "['String', 10, 't', 1, 2, 3, 4, 1, 2, 3, 4]"
      ]
     },
     "execution_count": 29,
     "metadata": {},
     "output_type": "execute_result"
    }
   ],
   "source": [
    "nums = [1,2,3,4]\n",
    "my_list.extend(nums)\n",
    "my_list"
   ]
  },
  {
   "cell_type": "markdown",
   "id": "8fc36c8a",
   "metadata": {},
   "source": [
    "> Fascinating right? Let see what else can we do."
   ]
  },
  {
   "cell_type": "markdown",
   "id": "97894e04",
   "metadata": {},
   "source": [
    "- We can use sort() method to arrange items in the list in ascending order"
   ]
  },
  {
   "cell_type": "code",
   "execution_count": 30,
   "id": "4c152699",
   "metadata": {},
   "outputs": [
    {
     "name": "stdout",
     "output_type": "stream",
     "text": [
      "Original list: [7, 2, 5, 1, 9, 3]\n",
      "Sorted list in ascending order: [1, 2, 3, 5, 7, 9]\n"
     ]
    }
   ],
   "source": [
    "numbers = [7, 2, 5, 1, 9, 3] #creating a list of random numbers\n",
    "\n",
    "print(\"Original list:\", numbers)\n",
    "\n",
    "numbers.sort() # Sorting the list in ascending order using the sort() method\n",
    "\n",
    "print(\"Sorted list in ascending order:\", numbers)"
   ]
  },
  {
   "cell_type": "markdown",
   "id": "5ace5056",
   "metadata": {},
   "source": [
    "- We can use pop() to remove elements from any index of the list"
   ]
  },
  {
   "cell_type": "code",
   "execution_count": 31,
   "id": "d2929a03",
   "metadata": {},
   "outputs": [
    {
     "data": {
      "text/plain": [
       "[1, 2, 5, 7, 9]"
      ]
     },
     "execution_count": 31,
     "metadata": {},
     "output_type": "execute_result"
    }
   ],
   "source": [
    "numbers.pop(2) #pop the element from 2nd position\n",
    "numbers"
   ]
  },
  {
   "cell_type": "markdown",
   "id": "6ce38631",
   "metadata": {},
   "source": [
    "- We can also use reverse() function to reverse the list"
   ]
  },
  {
   "cell_type": "code",
   "execution_count": 34,
   "id": "f72f1dc5",
   "metadata": {},
   "outputs": [
    {
     "data": {
      "text/plain": [
       "[9, 7, 5, 2, 1]"
      ]
     },
     "execution_count": 34,
     "metadata": {},
     "output_type": "execute_result"
    }
   ],
   "source": [
    "numbers.reverse()\n",
    "numbers"
   ]
  },
  {
   "cell_type": "markdown",
   "id": "afb1a271",
   "metadata": {},
   "source": [
    "# Dictionaries"
   ]
  },
  {
   "cell_type": "markdown",
   "id": "13e52867",
   "metadata": {},
   "source": [
    "- Dictionaries are unordered mapping for storing objects. They have key-value pair that allows user to quickly grab objects without needing to know an index location. \n",
    "- It uses curly braces and colons to signigy the keys and their associated values. \n",
    "    {'key1' : 'value1', 'key2' : 'value2'}\n",
    "    "
   ]
  },
  {
   "cell_type": "markdown",
   "id": "080a1fa3",
   "metadata": {},
   "source": [
    "- Key difference between dictionaries and lists: \n",
    "- Dictionaries: Objects retrived by key name. They can be unordered and cannot be sorted. \n",
    "- Lists: Objects retrived by location. They can be ordered sequence and can be indexed or sliced."
   ]
  },
  {
   "cell_type": "code",
   "execution_count": 35,
   "id": "4f17646c",
   "metadata": {},
   "outputs": [
    {
     "data": {
      "text/plain": [
       "{'key1': 'value1', 'key2': 'value2'}"
      ]
     },
     "execution_count": 35,
     "metadata": {},
     "output_type": "execute_result"
    }
   ],
   "source": [
    "my_dict = {'key1':'value1', 'key2':'value2'} #creating a dictionary\n",
    "my_dict"
   ]
  },
  {
   "cell_type": "code",
   "execution_count": 36,
   "id": "443441a1",
   "metadata": {},
   "outputs": [
    {
     "data": {
      "text/plain": [
       "'value1'"
      ]
     },
     "execution_count": 36,
     "metadata": {},
     "output_type": "execute_result"
    }
   ],
   "source": [
    "my_dict['key1'] #let's get the value associated with key1"
   ]
  },
  {
   "cell_type": "code",
   "execution_count": 53,
   "id": "084fd3c2",
   "metadata": {},
   "outputs": [
    {
     "data": {
      "text/plain": [
       "{'Alice': 85, 'Bob': 92, 'Charlie': 78, 'David': 65, 'Emily': 99}"
      ]
     },
     "execution_count": 53,
     "metadata": {},
     "output_type": "execute_result"
    }
   ],
   "source": [
    "# Creating a dictionary\n",
    "student_scores = {\"Alice\": 85, \"Bob\": 92, \"Charlie\": 78, \"David\": 65, \"Emily\": 99}\n",
    "student_scores"
   ]
  },
  {
   "cell_type": "markdown",
   "id": "d522f946",
   "metadata": {},
   "source": [
    "- We can also add an item to the dictionary"
   ]
  },
  {
   "cell_type": "code",
   "execution_count": 54,
   "id": "8f7a0a46",
   "metadata": {},
   "outputs": [
    {
     "data": {
      "text/plain": [
       "{'Alice': 85, 'Bob': 92, 'Charlie': 78, 'David': 65, 'Emily': 99, 'Sam': '98'}"
      ]
     },
     "execution_count": 54,
     "metadata": {},
     "output_type": "execute_result"
    }
   ],
   "source": [
    "student_scores[\"Sam\"] = '98' #adding 'Sam' and his score to the dictionary\n",
    "student_scores"
   ]
  },
  {
   "cell_type": "code",
   "execution_count": 55,
   "id": "22542134",
   "metadata": {},
   "outputs": [
    {
     "name": "stdout",
     "output_type": "stream",
     "text": [
      "dict_keys(['Alice', 'Bob', 'Charlie', 'David', 'Emily', 'Sam'])\n",
      "dict_values([85, 92, 78, 65, 99, '98'])\n",
      "dict_items([('Alice', 85), ('Bob', 92), ('Charlie', 78), ('David', 65), ('Emily', 99), ('Sam', '98')])\n"
     ]
    }
   ],
   "source": [
    "print(student_scores.keys()) #we can get the keys, values and items of the entire dictionaries\n",
    "print(student_scores.values())\n",
    "print(student_scores.items())"
   ]
  },
  {
   "cell_type": "code",
   "execution_count": 56,
   "id": "a30b8fb6",
   "metadata": {},
   "outputs": [
    {
     "data": {
      "text/plain": [
       "85"
      ]
     },
     "execution_count": 56,
     "metadata": {},
     "output_type": "execute_result"
    }
   ],
   "source": [
    "student_scores.pop('Alice') #remove an element from the dictionary"
   ]
  },
  {
   "cell_type": "code",
   "execution_count": 57,
   "id": "fbf07276",
   "metadata": {},
   "outputs": [
    {
     "data": {
      "text/plain": [
       "{'Bob': 92, 'Charlie': 78, 'David': 65, 'Emily': 99, 'Sam': '98'}"
      ]
     },
     "execution_count": 57,
     "metadata": {},
     "output_type": "execute_result"
    }
   ],
   "source": [
    "student_scores"
   ]
  },
  {
   "cell_type": "markdown",
   "id": "ca01322a",
   "metadata": {},
   "source": [
    "- Nested dictionaries are dictionaries that have other dictionaries in them as values"
   ]
  },
  {
   "cell_type": "code",
   "execution_count": 58,
   "id": "26894381",
   "metadata": {},
   "outputs": [
    {
     "data": {
      "text/plain": [
       "{'k1': 123, 'k2': [0, 1, 2], 'k3': {'insideKey': 100}}"
      ]
     },
     "execution_count": 58,
     "metadata": {},
     "output_type": "execute_result"
    }
   ],
   "source": [
    "nest = {'k1':123, 'k2':[0,1,2], 'k3':{'insideKey':100}} #creating a nested dictionary\n",
    "nest"
   ]
  },
  {
   "cell_type": "code",
   "execution_count": 59,
   "id": "58a2b5e0",
   "metadata": {},
   "outputs": [
    {
     "data": {
      "text/plain": [
       "{'insideKey': 100}"
      ]
     },
     "execution_count": 59,
     "metadata": {},
     "output_type": "execute_result"
    }
   ],
   "source": [
    "nest['k3'] #accessing key3 which has a dictionary inside it "
   ]
  },
  {
   "cell_type": "code",
   "execution_count": 60,
   "id": "e4cc9aac",
   "metadata": {},
   "outputs": [
    {
     "data": {
      "text/plain": [
       "100"
      ]
     },
     "execution_count": 60,
     "metadata": {},
     "output_type": "execute_result"
    }
   ],
   "source": [
    "nest['k3']['insideKey'] #to access the value, we have to use key from the second dictionary"
   ]
  }
 ],
 "metadata": {
  "kernelspec": {
   "display_name": "Python 3 (ipykernel)",
   "language": "python",
   "name": "python3"
  },
  "language_info": {
   "codemirror_mode": {
    "name": "ipython",
    "version": 3
   },
   "file_extension": ".py",
   "mimetype": "text/x-python",
   "name": "python",
   "nbconvert_exporter": "python",
   "pygments_lexer": "ipython3",
   "version": "3.12.4"
  }
 },
 "nbformat": 4,
 "nbformat_minor": 5
}
